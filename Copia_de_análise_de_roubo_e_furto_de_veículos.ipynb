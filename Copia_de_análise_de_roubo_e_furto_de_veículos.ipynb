{
  "cells": [
    {
      "cell_type": "markdown",
      "metadata": {
        "id": "view-in-github",
        "colab_type": "text"
      },
      "source": [
        "<a href=\"https://colab.research.google.com/github/muxeres/Analise-Fraude-Bancario/blob/master/Copia_de_an%C3%A1lise_de_roubo_e_furto_de_ve%C3%ADculos.ipynb\" target=\"_parent\"><img src=\"https://colab.research.google.com/assets/colab-badge.svg\" alt=\"Open In Colab\"/></a>"
      ]
    },
    {
      "source": [
        "# IMPORTANT: RUN THIS CELL IN ORDER TO IMPORT YOUR KAGGLE DATA SOURCES,\n",
        "# THEN FEEL FREE TO DELETE THIS CELL.\n",
        "# NOTE: THIS NOTEBOOK ENVIRONMENT DIFFERS FROM KAGGLE'S PYTHON\n",
        "# ENVIRONMENT SO THERE MAY BE MISSING LIBRARIES USED BY YOUR\n",
        "# NOTEBOOK.\n",
        "import kagglehub\n",
        "luanamartinsilva_bos_sp_roubofurto_de_veculo_2019_path = kagglehub.dataset_download('luanamartinsilva/bos-sp-roubofurto-de-veculo-2019')\n",
        "luanamartinsilva_municipios_sp_ibge_path = kagglehub.dataset_download('luanamartinsilva/municipios-sp-ibge')\n",
        "luanamartinsilva_frota_de_veculos_2019_sp_path = kagglehub.dataset_download('luanamartinsilva/frota-de-veculos-2019-sp')\n",
        "luanamartinsilva_sp_municpios_geopandas_path = kagglehub.dataset_download('luanamartinsilva/sp-municpios-geopandas')\n",
        "luanamartinsilva_feriados_e_dias_da_semana_brasil_path = kagglehub.dataset_download('luanamartinsilva/feriados-e-dias-da-semana-brasil')\n",
        "\n",
        "print('Data source import complete.')\n"
      ],
      "metadata": {
        "id": "6KWXgWZNh-7M"
      },
      "cell_type": "code",
      "outputs": [],
      "execution_count": null
    },
    {
      "metadata": {
        "id": "ZykS1k2eSyfD"
      },
      "cell_type": "markdown",
      "source": [
        "Fonte de dados reais para gerar os dados Fakes\n",
        "\n",
        "https://www.denatran.gov.br/component/content/article/115-portal-denatran/8551-estatisticas-denatran.html\n",
        "\n",
        "Fonte dos metadados das bases de dados do RENAVAM\n",
        "\n",
        "https://ck.govdata.gov.br/pt_BR/dataset/renavam\n",
        "\n",
        "**Conceitos**:\n",
        "\n",
        "*   Roubo de veículo: subtração, com violência ou grave ameaça, de veículo automotor\n",
        "\n",
        "*   Furto de veículo: subtração, sem violência ou grave ameaça, de veículo automotor\n"
      ]
    },
    {
      "metadata": {
        "id": "wNYDvq8_25t5",
        "trusted": true
      },
      "cell_type": "code",
      "source": [
        "!pip install pandas --upgrade\n",
        "import numpy as np\n",
        "import pandas as pd\n",
        "import matplotlib.pyplot as plt\n",
        "import seaborn as sns\n",
        "from sklearn.cluster import KMeans\n",
        "from sklearn.preprocessing import StandardScaler\n",
        "from sklearn.manifold import TSNE\n",
        "from shapely.geometry import Point\n",
        "import geopandas as gpd\n",
        "from sklearn import metrics\n",
        "#import datetime\n",
        "%matplotlib inline"
      ],
      "execution_count": null,
      "outputs": []
    },
    {
      "metadata": {
        "trusted": true,
        "id": "V6Wa094th-7V"
      },
      "cell_type": "code",
      "source": [
        "from platform import python_version\n",
        "print(python_version())\n",
        "!pip show pandas\n",
        "!pip show numpy\n",
        "!pip show seaborn"
      ],
      "execution_count": null,
      "outputs": []
    },
    {
      "metadata": {
        "id": "qYMr_2kv0FlM",
        "trusted": true
      },
      "cell_type": "code",
      "source": [
        "#função para extrair dataframe de arquivo xls da url\n",
        "import requests\n",
        "def get_dataframe_from_url(url, sheet_name = 0, skiprows = 0):\n",
        "  r = requests.get(url, verify=False)\n",
        "  with io.BytesIO(r.content) as fh:\n",
        "    return pd.read_excel(fh,sheet_name=sheet_name, skiprows=skiprows)\n"
      ],
      "execution_count": null,
      "outputs": []
    },
    {
      "metadata": {
        "trusted": true,
        "id": "8vjY-U9nh-7W"
      },
      "cell_type": "code",
      "source": [
        "#função para extrair dataframe de arquivo xls local\n",
        "def get_dataframe_from_file(file, sheet_name = 0, skiprows = 0):\n",
        "    return pd.read_excel(file,sheet_name=sheet_name, skiprows=skiprows)"
      ],
      "execution_count": null,
      "outputs": []
    },
    {
      "metadata": {
        "id": "ENOqgOSA3mt-",
        "trusted": true
      },
      "cell_type": "code",
      "source": [
        "#pré-processamento do dataframe\n",
        "def get_prepared_dataframe(dataset, weight_columns, value_colums) :\n",
        "  columns = weight_columns + value_colums\n",
        "  #mantem apenas as colunas necessárias\n",
        "  dataset = dataset[columns]\n",
        "  #eliminando dados sem informação\n",
        "  dataset.dropna(inplace=True)\n",
        "  #dataset = dataset[dataset[weight_columns] != 'Não se Aplica']\n",
        "  #dataset = dataset[dataset[weight_columns] != 'Não Identificado']\n",
        "  #dataset = dataset[dataset[weight_columns] != 'Sem Informação']\n",
        "  dataset.set_index(weight_columns, inplace=True)\n",
        "\n",
        "  return dataset"
      ],
      "execution_count": null,
      "outputs": []
    },
    {
      "metadata": {
        "id": "Dga9g3IFW46y",
        "trusted": true
      },
      "cell_type": "code",
      "source": [
        "#função para gerar array de pesos\n",
        "def get_weights(dataset):\n",
        "  total = dataset.sum()\n",
        "  weights = [ round(item / total, 4) for item in dataset.values]\n",
        "  weights = np.asarray(weights)\n",
        "  weights = weights.flatten()\n",
        "  # adicionando a diferença para a soma das probabilidade dar 1\n",
        "  weights[0] =  weights[0] + (1 - weights.sum())\n",
        "  return weights"
      ],
      "execution_count": null,
      "outputs": []
    },
    {
      "metadata": {
        "id": "CfqJm9oofr6g",
        "trusted": true
      },
      "cell_type": "code",
      "source": [
        "#função para gerar array do domínio de valores\n",
        "def get_values(dataset):\n",
        "  values = dataset.index\n",
        "  return values.to_numpy()"
      ],
      "execution_count": null,
      "outputs": []
    },
    {
      "metadata": {
        "id": "P0_kov17j_ke",
        "trusted": true
      },
      "cell_type": "code",
      "source": [
        "#função para gerar os dados fictícios\n",
        "def get_fake_values(dataset, fake_size):\n",
        "  weights = get_weights(dataset)\n",
        "  values = get_values(dataset)\n",
        "#Gerando um dataset para vizualizar melhor as probabilidades\n",
        "  probability_df = pd.DataFrame(weights, index = values)\n",
        "  probability_df.sort_values(by=0, ascending=False, inplace=True)\n",
        "  probability_df.head()\n",
        "  np.random.seed(10)\n",
        "  fake_values = np.random.choice(values, p=weights, size=fake_size)\n",
        "  return probability_df, fake_values"
      ],
      "execution_count": null,
      "outputs": []
    },
    {
      "metadata": {
        "id": "uvdg-zs7h-7a"
      },
      "cell_type": "markdown",
      "source": [
        "# Carregando informações da frota de São Paulo em Dezembro 2019 por município"
      ]
    },
    {
      "metadata": {
        "id": "D9tB9UdSScex"
      },
      "cell_type": "markdown",
      "source": [
        "## Ano Modelo e ano fabricação"
      ]
    },
    {
      "metadata": {
        "id": "XlUvxhvF68Wq",
        "trusted": true
      },
      "cell_type": "code",
      "source": [
        "frota_ano_file = \"https://infraestrutura.gov.br/images/Estatistica/RENAVAM/2019/Dezembro/F_Frota_por_UF_Municipio_ANO_FAB_MOD_Dezembro_2019.xlsx\"\n",
        "frota_ano = get_dataframe_from_file(frota_ano_file)\n",
        "frota_ano = frota_ano[frota_ano.UF == 'SAO PAULO']\n",
        "frota_ano = get_prepared_dataframe(frota_ano, ['Ano Modelo', 'Ano Fabricação CRV'],['Município','Qtd. Veículos'])\n",
        "frota_ano.head()"
      ],
      "execution_count": null,
      "outputs": []
    },
    {
      "metadata": {
        "id": "COojRE5pml2j"
      },
      "cell_type": "markdown",
      "source": [
        "## Tipo veículo e espécie"
      ]
    },
    {
      "metadata": {
        "id": "q_kfFPbbxbUW",
        "trusted": true
      },
      "cell_type": "code",
      "source": [
        "#frota_tipo_especie_file = \"https://infraestrutura.gov.br/images/Estatistica/RENAVAM/2019/Dezembro/G_Frota_por_UF_Municipio_TIPO_ESPECIE_EIXOS_Dezembro-2019.xlsx\"\n",
        "frota_tipo_especie_file = \"../input/frota-de-veculos-2019-sp/G_Frota_por_UF_Municipio_TIPO_ESPECIE_EIXOS_Dezembro-2019.xlsx\"\n",
        "frota_tipo_especie = get_dataframe_from_file(frota_tipo_especie_file)\n",
        "frota_tipo_especie = frota_tipo_especie[frota_tipo_especie.UF == 'SAO PAULO']\n",
        "frota_tipo_especie = get_prepared_dataframe(frota_tipo_especie, ['Tipo Veículo', 'Espécie Veículo'], ['Município','Qtd. Veículos'])\n",
        "#frota_tipo_especie = frota_tipo_especie.groupby(level=[0]).sum()\n",
        "frota_tipo_especie.head()"
      ],
      "execution_count": null,
      "outputs": []
    },
    {
      "metadata": {
        "id": "N97MnxzZpzO5"
      },
      "cell_type": "markdown",
      "source": [
        "## Cores dos veículos"
      ]
    },
    {
      "metadata": {
        "id": "8u0Ubnx7yupX",
        "trusted": true
      },
      "cell_type": "code",
      "source": [
        "#frota_cor_file = \"https://infraestrutura.gov.br/images/Estatistica/RENAVAM/2019/Dezembro/C_Frota_por_UF_Municipio_COR_Dezembro_2019.xlsx\"\n",
        "frota_cor_file = \"../input/frota-de-veculos-2019-sp/C_Frota_por_UF_Municipio_COR_Dezembro_2019.xlsx\"\n",
        "frota_cor = get_dataframe_from_file(frota_cor_file)\n",
        "frota_cor = frota_cor[frota_cor.UF == 'SAO PAULO']\n",
        "frota_cor = get_prepared_dataframe(frota_cor, ['Cor Veículo'],['Município','Qtd. Veículos'])\n",
        "#frota_cor = frota_cor.groupby(level=[0]).sum()\n",
        "frota_cor.head()"
      ],
      "execution_count": null,
      "outputs": []
    },
    {
      "metadata": {
        "trusted": true,
        "id": "ET9Hhmo-h-7c"
      },
      "cell_type": "code",
      "source": [
        "frota_cor.sort_values(by=\"Qtd. Veículos\",  ascending=False)"
      ],
      "execution_count": null,
      "outputs": []
    },
    {
      "metadata": {
        "id": "OLj3iTEoQ6qU"
      },
      "cell_type": "markdown",
      "source": [
        "## Marca/modelo dos veículos"
      ]
    },
    {
      "metadata": {
        "id": "bqY_A1RHsiPL",
        "trusted": true
      },
      "cell_type": "code",
      "source": [
        "frota_marca_modelo_file = \"../input/frota-de-veculos-2019-sp/I_Frota_por_UF_Municipio_Marca_e_Modelo_Ano_Dezembro_2019.csv\"\n",
        "frota_marca_modelo = pd.read_csv(frota_marca_modelo_file, sep=';')\n",
        "frota_marca_modelo = get_prepared_dataframe(frota_marca_modelo, ['Marca Modelo'], ['Município','Qtd. Veículos'])\n",
        "#frota_marca_modelo = frota_marca_modelo.groupby(level=[0]).sum()\n",
        "frota_marca_modelo"
      ],
      "execution_count": null,
      "outputs": []
    },
    {
      "metadata": {
        "id": "X1xVyfq9To19"
      },
      "cell_type": "markdown",
      "source": [
        "# Analisando estatísticas de roubo/furto de veículos em SP de Agosto a Dezembro de 2019"
      ]
    },
    {
      "metadata": {
        "trusted": true,
        "id": "QutarsSSh-7d"
      },
      "cell_type": "code",
      "source": [
        "roubo_file = '../input/bos-sp-roubofurto-de-veculo-2019/Roubo Veic Ago a Dez 2019.xlsx'\n",
        "roubo_dataframe = pd.concat(pd.read_excel(roubo_file, sheet_name=None), ignore_index=True)\n",
        "print(f'O dataset de roubo de veículos possui {roubo_dataframe.shape[0]} linhas e {roubo_dataframe.shape[1]} colunas.')"
      ],
      "execution_count": null,
      "outputs": []
    },
    {
      "metadata": {
        "trusted": true,
        "id": "YtVun1Whh-7d"
      },
      "cell_type": "code",
      "source": [
        "furto_file = '../input/bos-sp-roubofurto-de-veculo-2019/Furto Veic Ago a Dez19 (1).xlsx'\n",
        "furto_dataframe = pd.concat(pd.read_excel(furto_file, sheet_name=None), ignore_index=True)\n",
        "print(f'O dataset de furto de veículos possui {furto_dataframe.shape[0]} linhas e {furto_dataframe.shape[1]} colunas.')"
      ],
      "execution_count": null,
      "outputs": []
    },
    {
      "metadata": {
        "trusted": true,
        "id": "qB2PDdNlh-7d"
      },
      "cell_type": "code",
      "source": [
        "frames = [roubo_dataframe, furto_dataframe]\n",
        "roubo_furto_dataframe = pd.concat(frames)\n",
        "print(f'O dataset de furto e roubo de veículos possui {roubo_furto_dataframe.shape[0]} linhas e {roubo_furto_dataframe.shape[1]} colunas.')"
      ],
      "execution_count": null,
      "outputs": []
    },
    {
      "metadata": {
        "id": "AJ0-s2uZh-7d"
      },
      "cell_type": "markdown",
      "source": [
        "## Analisando campo 'Rúbricas'"
      ]
    },
    {
      "metadata": {
        "trusted": true,
        "id": "lUArR5pBh-7e"
      },
      "cell_type": "code",
      "source": [
        "#rubricas\n",
        "roubo_furto_dataframe.RUBRICA.value_counts().head(20)"
      ],
      "execution_count": null,
      "outputs": []
    },
    {
      "metadata": {
        "id": "sXqV20SNh-7e"
      },
      "cell_type": "markdown",
      "source": [
        "Mantendo apenas dados relativos a roubo ou furto de veículos"
      ]
    },
    {
      "metadata": {
        "trusted": true,
        "id": "mveyLmhhh-7e"
      },
      "cell_type": "code",
      "source": [
        "rubricas = [\"Roubo (art. 157) - VEICULO\", \"A.I.-Roubo (art. 157) - VEICULO\", \"Roubo (art. 157) - RESIDENCIA\", \"Furto (art. 155) - VEICULO\", \"Furto qualificado (art. 155, §4o.) - VEICULO\", \"Furto qualificado (art. 155, §4o.) - RESIDENCIA\"]\n",
        "roubo_furto_dataframe = roubo_furto_dataframe[roubo_furto_dataframe.RUBRICA.isin(rubricas)]\n",
        "print(f'O dataset de furto e roubo de veículos possui {roubo_furto_dataframe.shape[0]} linhas e {roubo_furto_dataframe.shape[1]} colunas.')"
      ],
      "execution_count": null,
      "outputs": []
    },
    {
      "metadata": {
        "trusted": true,
        "id": "HJnCbMndh-7e"
      },
      "cell_type": "code",
      "source": [
        "roubo_furto_dataframe.RUBRICA.value_counts()"
      ],
      "execution_count": null,
      "outputs": []
    },
    {
      "metadata": {
        "id": "7hOBfzHgh-7f"
      },
      "cell_type": "markdown",
      "source": [
        "Criando a coluna 'TIPODECRIME' para indicar se trata-se de roubo ou furto"
      ]
    },
    {
      "metadata": {
        "trusted": true,
        "id": "oZsSo0uGh-7f"
      },
      "cell_type": "code",
      "source": [
        "roubo_furto_dataframe['TIPODECRIME'] = 'Furto'\n",
        "roubo = ['Roubo (art. 157) - VEICULO', 'A.I.-Roubo (art. 157) - VEICULO', 'Roubo (art. 157) - RESIDENCIA']\n",
        "roubo_furto_dataframe.loc[roubo_furto_dataframe['RUBRICA'].isin(roubo), 'TIPODECRIME'] = 'Roubo'"
      ],
      "execution_count": null,
      "outputs": []
    },
    {
      "metadata": {
        "trusted": true,
        "id": "OL1p6n06h-7f"
      },
      "cell_type": "code",
      "source": [
        "roubo_furto_dataframe.columns"
      ],
      "execution_count": null,
      "outputs": []
    },
    {
      "metadata": {
        "id": "WfH2B0Kph-7f"
      },
      "cell_type": "markdown",
      "source": [
        "Mantendo apenas as colunas mais significativas para a análise"
      ]
    },
    {
      "metadata": {
        "trusted": true,
        "id": "294T-irQh-7f"
      },
      "cell_type": "code",
      "source": [
        "roubo_furto_dataframe = roubo_furto_dataframe[['DATAOCORRENCIA','PERIDOOCORRENCIA','CIDADE','DESCRICAOLOCAL','DESCR_COR_VEICULO', 'DESCR_MARCA_VEICULO', 'ANO_FABRICACAO', 'ANO_MODELO', 'DESCR_TIPO_VEICULO','TIPODECRIME','LATITUDE','LONGITUDE']]\n",
        "roubo_furto_dataframe.shape"
      ],
      "execution_count": null,
      "outputs": []
    },
    {
      "metadata": {
        "trusted": true,
        "id": "nAQN5FEPh-7g"
      },
      "cell_type": "code",
      "source": [
        "roubo_furto_dataframe.info()"
      ],
      "execution_count": null,
      "outputs": []
    },
    {
      "metadata": {
        "trusted": true,
        "id": "KS_1vbLZh-7g"
      },
      "cell_type": "code",
      "source": [
        "roubo_furto_dataframe.describe"
      ],
      "execution_count": null,
      "outputs": []
    },
    {
      "metadata": {
        "id": "zWVeAYXEh-7g"
      },
      "cell_type": "markdown",
      "source": [
        "## Analisando campos 'Latitude' e 'Longitude'"
      ]
    },
    {
      "metadata": {
        "trusted": true,
        "id": "bRF-0yCTh-7g"
      },
      "cell_type": "code",
      "source": [
        "lat_lon_nulas = (roubo_furto_dataframe['LATITUDE'].isna() & roubo_furto_dataframe['LONGITUDE'].isna())\n",
        "print(f'{roubo_furto_dataframe[lat_lon_nulas].shape[0]} registros com latitude e longitude nulas')"
      ],
      "execution_count": null,
      "outputs": []
    },
    {
      "metadata": {
        "trusted": true,
        "id": "4mOv6OVIh-7g"
      },
      "cell_type": "code",
      "source": [
        "roubo_furto_dataframe['LONGITUDE'].describe()"
      ],
      "execution_count": null,
      "outputs": []
    },
    {
      "metadata": {
        "trusted": true,
        "id": "sGzoPGTLh-7v"
      },
      "cell_type": "code",
      "source": [
        "roubo_furto_dataframe['LATITUDE'].describe()"
      ],
      "execution_count": null,
      "outputs": []
    },
    {
      "metadata": {
        "id": "dQtR_lTqh-7v"
      },
      "cell_type": "markdown",
      "source": [
        "## Analisando campo 'período da ocorrência'"
      ]
    },
    {
      "metadata": {
        "trusted": true,
        "id": "GABaIx6mh-7w"
      },
      "cell_type": "code",
      "source": [
        "roubo_furto_dataframe.PERIDOOCORRENCIA.value_counts()"
      ],
      "execution_count": null,
      "outputs": []
    },
    {
      "metadata": {
        "id": "cTb8kTDMh-7w"
      },
      "cell_type": "markdown",
      "source": [
        "## Analisando o campo 'Local'"
      ]
    },
    {
      "metadata": {
        "trusted": true,
        "id": "unYmopGSh-7w"
      },
      "cell_type": "code",
      "source": [
        "roubo_furto_dataframe.DESCRICAOLOCAL.value_counts()"
      ],
      "execution_count": null,
      "outputs": []
    },
    {
      "metadata": {
        "id": "w1-N3cXzh-7w"
      },
      "cell_type": "markdown",
      "source": [
        "Criando coluna 'LOCAL' com dados do local agrupados por locais semelhantes (maior granularidade)"
      ]
    },
    {
      "metadata": {
        "trusted": true,
        "id": "Lrs8WxL0h-7w"
      },
      "cell_type": "code",
      "source": [
        "roubo_furto_dataframe.loc[:,'LOCAL'] = 'Outros'\n",
        "\n",
        "residencia = ['Residência', 'Condominio Residencial', 'Garagem ou abrigo de residência', 'Garagem coletiva de prédio']\n",
        "via_publica = ['Via Pública', 'Via pública', 'Favela']\n",
        "comercio = ['Comércio e serviços', 'Centro Comerc./Empresarial', 'Estabelecimento industrial', 'Restaurante e afins',\n",
        "            'Lazer e recreação', 'Estabelecimento de ensino', 'Shopping Center', 'Saúde', 'Serviços e bens públicos',\n",
        "            'Templo e afins', 'Condominio Comercial', 'Hospedagem', 'Escritório', 'Estabelecimento bancário'\n",
        "            'Entidade assistencial', 'Repartição Pública']\n",
        "rodovia = ['Estrada de ferro','Rodovia/Estrada']\n",
        "rural = ['Unidade rural']\n",
        "veiculo_movimento = ['Veículo em movimento']\n",
        "estacionamento = ['Estacionamento com vigilância', 'Estacionamento público','Estacionamento particular', 'Terminal/Estação']\n",
        "\n",
        "roubo_furto_dataframe.loc[roubo_furto_dataframe['DESCRICAOLOCAL'].isin(residencia), 'LOCAL'] = 'Residência'\n",
        "roubo_furto_dataframe.loc[roubo_furto_dataframe['DESCRICAOLOCAL'].isin(via_publica), 'LOCAL'] = 'Via Pública'\n",
        "roubo_furto_dataframe.loc[roubo_furto_dataframe['DESCRICAOLOCAL'].isin(comercio), 'LOCAL'] = 'Comércio e Serviços'\n",
        "roubo_furto_dataframe.loc[roubo_furto_dataframe['DESCRICAOLOCAL'].isin(rodovia), 'LOCAL'] = 'Estrada'\n",
        "roubo_furto_dataframe.loc[roubo_furto_dataframe['DESCRICAOLOCAL'].isin(rural), 'LOCAL'] = 'Zona Rural'\n",
        "roubo_furto_dataframe.loc[roubo_furto_dataframe['DESCRICAOLOCAL'].isin(veiculo_movimento), 'LOCAL'] = 'Veículo em movimento'\n",
        "roubo_furto_dataframe.loc[roubo_furto_dataframe['DESCRICAOLOCAL'].isin(estacionamento), 'LOCAL'] = 'Estacionamento'"
      ],
      "execution_count": null,
      "outputs": []
    },
    {
      "metadata": {
        "trusted": true,
        "id": "kuaCuf_Ph-7x"
      },
      "cell_type": "code",
      "source": [
        "roubo_furto_dataframe['LOCAL'].value_counts()"
      ],
      "execution_count": null,
      "outputs": []
    },
    {
      "metadata": {
        "id": "FEJj4wesh-7x"
      },
      "cell_type": "markdown",
      "source": [
        "## Analisando o campo 'Cor'"
      ]
    },
    {
      "metadata": {
        "trusted": true,
        "id": "hcBECmmUh-7x"
      },
      "cell_type": "code",
      "source": [
        "roubo_furto_dataframe.DESCR_COR_VEICULO.value_counts()"
      ],
      "execution_count": null,
      "outputs": []
    },
    {
      "metadata": {
        "trusted": true,
        "id": "6B6IHOa5h-7x"
      },
      "cell_type": "code",
      "source": [
        "print(f'{roubo_furto_dataframe.DESCR_COR_VEICULO.isna().sum()} registros com cores nulas')"
      ],
      "execution_count": null,
      "outputs": []
    },
    {
      "metadata": {
        "id": "k6assWzeh-7x"
      },
      "cell_type": "markdown",
      "source": [
        "Transformando cores nulas em 'Não Informado'"
      ]
    },
    {
      "metadata": {
        "trusted": true,
        "id": "rElOBRKWh-7x"
      },
      "cell_type": "code",
      "source": [
        "roubo_furto_dataframe.loc[:,'DESCR_COR_VEICULO'] = roubo_furto_dataframe.DESCR_COR_VEICULO.fillna('Não Informado')\n",
        "print(f'{roubo_furto_dataframe.DESCR_COR_VEICULO.value_counts()[\"Não Informado\"]} registros com cor não informada')"
      ],
      "execution_count": null,
      "outputs": []
    },
    {
      "metadata": {
        "id": "cQZRn6Sah-7y"
      },
      "cell_type": "markdown",
      "source": [
        "## Analisando o campo 'tipo do veículo'"
      ]
    },
    {
      "metadata": {
        "trusted": true,
        "id": "DsPFLJF5h-7y"
      },
      "cell_type": "code",
      "source": [
        "roubo_furto_dataframe.DESCR_TIPO_VEICULO.value_counts()"
      ],
      "execution_count": null,
      "outputs": []
    },
    {
      "metadata": {
        "trusted": true,
        "id": "Kqo4Lq2Ch-7y"
      },
      "cell_type": "code",
      "source": [
        "print(f'{roubo_furto_dataframe.DESCR_TIPO_VEICULO.isna().sum()} registros com tipo veículo nulo')"
      ],
      "execution_count": null,
      "outputs": []
    },
    {
      "metadata": {
        "id": "dQBLC9cEh-7y"
      },
      "cell_type": "markdown",
      "source": [
        "Transformando tipo veículo nulo e 'INEXIST.' em 'Não Informado'"
      ]
    },
    {
      "metadata": {
        "trusted": true,
        "id": "shQtL07Oh-7y"
      },
      "cell_type": "code",
      "source": [
        "roubo_furto_dataframe.DESCR_TIPO_VEICULO = roubo_furto_dataframe.DESCR_TIPO_VEICULO.fillna('Não Informado')\n",
        "roubo_furto_dataframe = roubo_furto_dataframe.replace({'DESCR_TIPO_VEICULO': {'INEXIST.': 'Não Informado'}})\n",
        "roubo_furto_dataframe.DESCR_TIPO_VEICULO.value_counts()"
      ],
      "execution_count": null,
      "outputs": []
    },
    {
      "metadata": {
        "id": "dT__Mrr6h-7z"
      },
      "cell_type": "markdown",
      "source": [
        "Pela definição contida no Código de Trânsito Brasileiro:\n",
        "\n",
        "AUTOMÓVEL - veículo automotor destinado ao transporte de passageiros, com capacidade\n",
        "para até oito pessoas, exclusive o condutor\n",
        "\n",
        "CAMIONETA – veículo misto destinado ao transporte de passageiros e carga no mesmo compartimento\n",
        "\n",
        "CAMINHONETE – veículo destinado ao transporte de carga com peso bruto total de até três mil e quinhentos quilogramas\n",
        "\n",
        "UTILITÁRIO – veículo misto caracterizado pela versatilidade do seu uso, inclusive fora de estrada\n",
        "\n",
        "MOTONETA - veículo automotor de duas rodas, dirigido por condutor em posição sentada\n",
        "\n",
        "MOTOCICLETA - veículo automotor de duas rodas, com ou sem side-car, dirigido por\n",
        "condutor em posição montada.\n",
        "\n",
        "MICROÔNIBUS - veículo automotor de transporte coletivo com capacidade para até vinte\n",
        "passageiros\n",
        "\n",
        "ÔNIBUS - veículo automotor de transporte coletivo com capacidade para mais de vinte\n",
        "passageiros, ainda que, em virtude de adaptações com vista à maior comodidade destes, transporte\n",
        "número menor.\n",
        "\n",
        "CAMINHÃO-TRATOR - veículo automotor destinado a tracionar ou arrastar outro\n",
        "\n",
        "TRATOR - veículo automotor construído para realizar trabalho agrícola, de construção e\n",
        "pavimentação e tracionar outros veículos e equipamentos.\n",
        "\n",
        "REBOQUE - veículo destinado a ser engatado atrás de um veículo automotor.\n",
        "\n",
        "SEMI-REBOQUE - veículo de um ou mais eixos que se apóia na sua unidade tratora ou é a ela\n",
        "ligado por meio de articulação.\n",
        "\n",
        "CICLOMOTOR - veículo de duas ou três rodas, provido de um motor de combustão interna,\n",
        "cuja cilindrada não exceda a cinqüenta centímetros cúbicos (3,05 polegadas cúbicas) e cuja velocidade\n",
        "máxima de fabricação não exceda a cinqüenta quilômetros por hora."
      ]
    },
    {
      "metadata": {
        "id": "ueHz7oBJh-7z"
      },
      "cell_type": "markdown",
      "source": [
        "## Analisando os campos 'ano do modelo' e 'ano da fabricação'"
      ]
    },
    {
      "metadata": {
        "id": "D34pOKTdh-7z"
      },
      "cell_type": "markdown",
      "source": [
        "Convertendo os anos zerados para nulo"
      ]
    },
    {
      "metadata": {
        "trusted": true,
        "id": "cK48oAuxh-70"
      },
      "cell_type": "code",
      "source": [
        "roubo_furto_dataframe = roubo_furto_dataframe.replace({'ANO_FABRICACAO' : {0 : np.NaN}})\n",
        "roubo_furto_dataframe = roubo_furto_dataframe.replace({'ANO_MODELO' : {0 : np.NaN}})"
      ],
      "execution_count": null,
      "outputs": []
    },
    {
      "metadata": {
        "trusted": true,
        "id": "1fTRmB9Kh-70"
      },
      "cell_type": "code",
      "source": [
        "print(f'{roubo_furto_dataframe[(roubo_furto_dataframe.ANO_FABRICACAO.isna()) | (roubo_furto_dataframe.ANO_MODELO.isna())].shape[0]} registros de ano fabricação ou ano modelo nulos')"
      ],
      "execution_count": null,
      "outputs": []
    },
    {
      "metadata": {
        "id": "N9jv2Ozrh-70"
      },
      "cell_type": "markdown",
      "source": [
        "Analisando a relação do ano do modelo com o ano de fabricação, percebe-se que são iguais ou com 1 ano de diferença."
      ]
    },
    {
      "metadata": {
        "trusted": true,
        "id": "pvArcAzyh-70"
      },
      "cell_type": "code",
      "source": [
        "frequencia = pd.crosstab(roubo_furto_dataframe[roubo_furto_dataframe.ANO_MODELO > 2000].ANO_MODELO,\n",
        "                         roubo_furto_dataframe[roubo_furto_dataframe.ANO_MODELO > 2000].ANO_FABRICACAO)\n",
        "frequencia"
      ],
      "execution_count": null,
      "outputs": []
    },
    {
      "metadata": {
        "trusted": true,
        "id": "4VrLuS5Bh-70"
      },
      "cell_type": "code",
      "source": [
        "anos_iguais = roubo_furto_dataframe[(roubo_furto_dataframe.ANO_FABRICACAO != 0) & (roubo_furto_dataframe.ANO_MODELO == roubo_furto_dataframe.ANO_FABRICACAO)].shape[0]\n",
        "print(f'{anos_iguais} veículos com o ano do modelo igual ao ano de fabricação')\n",
        "anos_iguais_mais_um = roubo_furto_dataframe[(roubo_furto_dataframe.ANO_FABRICACAO != 0) & (roubo_furto_dataframe.ANO_MODELO == roubo_furto_dataframe.ANO_FABRICACAO + 1)].shape[0]\n",
        "print(f'{anos_iguais_mais_um} veículos com o ano do modelo igual ao ano posterior ao ano de fabricação')"
      ],
      "execution_count": null,
      "outputs": []
    },
    {
      "metadata": {
        "id": "v4UF3D_zh-71"
      },
      "cell_type": "markdown",
      "source": [
        "Como a maioria dos veículos possuem o ano modelo posterior ao ano de frabricação, vamos preencher os anos do modelo nulos com o ano posterior ao ano da fabricação\n",
        "Preenchendo os anos de fabricação nulos com o ano anterior ao ano do modelo"
      ]
    },
    {
      "metadata": {
        "trusted": true,
        "id": "I9pvm3KMh-71"
      },
      "cell_type": "code",
      "source": [
        "roubo_furto_dataframe['ANO_MODELO'] =  roubo_furto_dataframe['ANO_MODELO'].fillna(roubo_furto_dataframe['ANO_FABRICACAO'] + 1)"
      ],
      "execution_count": null,
      "outputs": []
    },
    {
      "metadata": {
        "trusted": true,
        "id": "00MqN8WEh-71"
      },
      "cell_type": "code",
      "source": [
        "print(f'{roubo_furto_dataframe[(roubo_furto_dataframe.ANO_FABRICACAO.isna()) | (roubo_furto_dataframe.ANO_MODELO.isna())].shape[0]} registros de ano fabricação ou ano modelo nulos')"
      ],
      "execution_count": null,
      "outputs": []
    },
    {
      "metadata": {
        "trusted": true,
        "id": "ywzL1s_qh-71"
      },
      "cell_type": "code",
      "source": [
        "roubo_furto_dataframe['ANO_FABRICACAO'] =  roubo_furto_dataframe['ANO_FABRICACAO'].fillna(roubo_furto_dataframe['ANO_MODELO'] - 1)"
      ],
      "execution_count": null,
      "outputs": []
    },
    {
      "metadata": {
        "trusted": true,
        "id": "IRRcCiRrh-71"
      },
      "cell_type": "code",
      "source": [
        "print(f'{roubo_furto_dataframe[(roubo_furto_dataframe.ANO_FABRICACAO.isna()) | (roubo_furto_dataframe.ANO_MODELO.isna())].shape[0]} registros de ano fabricação ou ano modelo nulos')"
      ],
      "execution_count": null,
      "outputs": []
    },
    {
      "metadata": {
        "id": "E1oG1QBgh-72"
      },
      "cell_type": "markdown",
      "source": [
        "Convertendo as colunas de ano modelo e ano fabricação para o tipo inteiro"
      ]
    },
    {
      "metadata": {
        "trusted": true,
        "id": "d8M5Ag6ch-72"
      },
      "cell_type": "code",
      "source": [
        "roubo_furto_dataframe.ANO_FABRICACAO = roubo_furto_dataframe.ANO_FABRICACAO.fillna(0)\n",
        "roubo_furto_dataframe.ANO_MODELO = roubo_furto_dataframe.ANO_MODELO.fillna(0)\n",
        "roubo_furto_dataframe.ANO_FABRICACAO = roubo_furto_dataframe.ANO_FABRICACAO.astype(int)\n",
        "roubo_furto_dataframe.ANO_MODELO = roubo_furto_dataframe.ANO_MODELO.astype(int)"
      ],
      "execution_count": null,
      "outputs": []
    },
    {
      "metadata": {
        "id": "dBaiDkvPh-72"
      },
      "cell_type": "markdown",
      "source": [
        "Verificando e removendo outliers"
      ]
    },
    {
      "metadata": {
        "trusted": true,
        "id": "owMad-RZh-72"
      },
      "cell_type": "code",
      "source": [
        "plt.figure(figsize=(8,3))\n",
        "sns.boxplot(x = 'ANO_FABRICACAO', data = roubo_furto_dataframe[roubo_furto_dataframe.ANO_FABRICACAO > 0], orient = 'h')\n",
        "plt.xlabel('Ano fabricação', fontsize=14)\n",
        "plt.show()"
      ],
      "execution_count": null,
      "outputs": []
    },
    {
      "metadata": {
        "id": "s2ZXx4zJh-72"
      },
      "cell_type": "markdown",
      "source": [
        "Transformando outliers em zero (nulos)"
      ]
    },
    {
      "metadata": {
        "trusted": true,
        "id": "yXtaBNdHh-73"
      },
      "cell_type": "code",
      "source": [
        "roubo_furto_dataframe[roubo_furto_dataframe.ANO_FABRICACAO < 1950].ANO_FABRICACAO.value_counts()"
      ],
      "execution_count": null,
      "outputs": []
    },
    {
      "metadata": {
        "id": "EpuRx2cPh-73"
      },
      "cell_type": "markdown",
      "source": [
        "Analisando os outliers, percebe-se que os valores estão incorretos. Eles são transformados em zeros (nulos)."
      ]
    },
    {
      "metadata": {
        "trusted": true,
        "id": "v6cbZ66Ch-73"
      },
      "cell_type": "code",
      "source": [
        "roubo_furto_dataframe = roubo_furto_dataframe.replace({'ANO_FABRICACAO' : {201 : 0}})\n",
        "roubo_furto_dataframe = roubo_furto_dataframe.replace({'ANO_FABRICACAO' : {1918 : 0}})"
      ],
      "execution_count": null,
      "outputs": []
    },
    {
      "metadata": {
        "trusted": true,
        "id": "hV45uPDlh-73"
      },
      "cell_type": "code",
      "source": [
        "plt.figure(figsize=(8,3))\n",
        "sns.boxplot(x = ['ANO_FABRICACAO'], data = roubo_furto_dataframe[roubo_furto_dataframe.ANO_FABRICACAO > 0], orient = 'h')\n",
        "plt.xlabel('Ano fabricação', fontsize=14)\n",
        "plt.show()"
      ],
      "execution_count": null,
      "outputs": []
    },
    {
      "metadata": {
        "trusted": true,
        "id": "eBmVYyiRh-73"
      },
      "cell_type": "code",
      "source": [
        "plt.figure(figsize=(8,3))\n",
        "sns.boxplot(x = 'ANO_MODELO', data = roubo_furto_dataframe[roubo_furto_dataframe.ANO_MODELO > 0], orient = 'h')\n",
        "plt.xlabel('Ano modelo', fontsize=14)\n",
        "plt.show()"
      ],
      "execution_count": null,
      "outputs": []
    },
    {
      "metadata": {
        "trusted": true,
        "id": "0o4wUbzHh-73"
      },
      "cell_type": "code",
      "source": [
        "roubo_furto_dataframe[roubo_furto_dataframe.ANO_MODELO < 1950].ANO_MODELO.value_counts()"
      ],
      "execution_count": null,
      "outputs": []
    },
    {
      "metadata": {
        "trusted": true,
        "id": "Ves2ALS6h-74"
      },
      "cell_type": "code",
      "source": [
        "roubo_furto_dataframe = roubo_furto_dataframe.replace({'ANO_MODELO' : {202 : 0}})\n",
        "roubo_furto_dataframe = roubo_furto_dataframe.replace({'ANO_MODELO' : {1919 : 0}})"
      ],
      "execution_count": null,
      "outputs": []
    },
    {
      "metadata": {
        "trusted": true,
        "id": "38O4ta8sh-74"
      },
      "cell_type": "code",
      "source": [
        "plt.figure(figsize=(8,3))\n",
        "sns.boxplot(x = 'ANO_MODELO', data = roubo_furto_dataframe[roubo_furto_dataframe.ANO_MODELO > 0], orient = 'h')\n",
        "plt.xlabel('Ano fabricação', fontsize=14)\n",
        "plt.show()"
      ],
      "execution_count": null,
      "outputs": []
    },
    {
      "metadata": {
        "trusted": true,
        "id": "aRXKenRih-74"
      },
      "cell_type": "code",
      "source": [
        "freq_ano_modelo = roubo_furto_dataframe[roubo_furto_dataframe.ANO_MODELO > 0].ANO_MODELO.value_counts()\n",
        "plt.figure(figsize=(20,8))\n",
        "sns.barplot(x=freq_ano_modelo.index, y=freq_ano_modelo)\n",
        "plt.xticks(rotation= 90)\n",
        "plt.xlabel('Ano Modelo')\n",
        "plt.ylabel('Frequência')\n",
        "plt.title('Distribuição de Frequências - Ano Modelo do Veículo - Roubo/furto de veículos 2019 SP')\n",
        "plt.show()"
      ],
      "execution_count": null,
      "outputs": []
    },
    {
      "metadata": {
        "trusted": true,
        "id": "QnyJnmXkh-74"
      },
      "cell_type": "code",
      "source": [
        "roubo_furto_dataframe[roubo_furto_dataframe.ANO_MODELO > 0].ANO_MODELO.describe()"
      ],
      "execution_count": null,
      "outputs": []
    },
    {
      "metadata": {
        "id": "EDLBavZZh-75"
      },
      "cell_type": "markdown",
      "source": [
        "Criando a coluna 'Faixa ano modelo' com os intervalos de anos correspondentes aos quartis."
      ]
    },
    {
      "metadata": {
        "trusted": true,
        "id": "7vPlrbCfh-75"
      },
      "cell_type": "code",
      "source": [
        "classes = [1951, 2008, 2013, 2016, 2020]\n",
        "labels = ['1951-2008', '2008-2013', '1013-2016', '2016-2020']\n",
        "roubo_furto_dataframe['FAIXA_ANO_MODELO'] = pd.cut(x = roubo_furto_dataframe.ANO_MODELO,\n",
        "        bins = classes,\n",
        "        labels = labels,\n",
        "        include_lowest = True).values.add_categories('Não Informado')\n",
        "print(f'A coluna faixa ano modelo possui {roubo_furto_dataframe[roubo_furto_dataframe.FAIXA_ANO_MODELO.isna()].shape[0]} dados nulos')\n",
        "roubo_furto_dataframe.FAIXA_ANO_MODELO = roubo_furto_dataframe.FAIXA_ANO_MODELO.fillna('Não Informado')"
      ],
      "execution_count": null,
      "outputs": []
    },
    {
      "metadata": {
        "id": "c6Pv0oS6h-75"
      },
      "cell_type": "markdown",
      "source": [
        "## Analisando o campo 'Data da ocorrência'"
      ]
    },
    {
      "metadata": {
        "id": "PUCusfCRh-75"
      },
      "cell_type": "markdown",
      "source": [
        "Mantendo apenas as ocorrências com data posterior à 01/08/2019"
      ]
    },
    {
      "metadata": {
        "trusted": true,
        "id": "9AWEKQE2h-75"
      },
      "cell_type": "code",
      "source": [
        "roubo_furto_dataframe['DATAOCORRENCIA2'] = roubo_furto_dataframe['DATAOCORRENCIA']\n",
        "roubo_furto_dataframe.DATAOCORRENCIA2 = pd.to_datetime(roubo_furto_dataframe.DATAOCORRENCIA2, format=\"%Y-%m-%d\", errors='coerce')\n",
        "ocorrencias_antigas = roubo_furto_dataframe[roubo_furto_dataframe.DATAOCORRENCIA2 < pd.Timestamp(2019,8,1)]\n",
        "ocorrencias_erradas = roubo_furto_dataframe[roubo_furto_dataframe.DATAOCORRENCIA2 == pd.NaT]\n",
        "print(f'Existem {ocorrencias_antigas.shape[0]} ocorrências com data anterior à 01/08/2019')\n",
        "print(f'Existem {ocorrencias_erradas.shape[0]} ocorrências com data inválida')\n",
        "roubo_furto_dataframe = roubo_furto_dataframe[roubo_furto_dataframe.DATAOCORRENCIA2 >= pd.Timestamp(2019,8,1)]\n",
        "roubo_furto_dataframe = roubo_furto_dataframe.drop(['DATAOCORRENCIA2'], axis = 'columns')"
      ],
      "execution_count": null,
      "outputs": []
    },
    {
      "metadata": {
        "trusted": true,
        "id": "iVV7z6s2h-76"
      },
      "cell_type": "code",
      "source": [
        "frequencia = roubo_furto_dataframe.DATAOCORRENCIA.value_counts()\n",
        "ocorrencias = pd.DataFrame({'Frequência' : frequencia})\n",
        "ocorrencias.sort_values(ascending = False, by = 'Frequência')"
      ],
      "execution_count": null,
      "outputs": []
    },
    {
      "metadata": {
        "id": "Jplt9AIdh-76"
      },
      "cell_type": "markdown",
      "source": [
        "Criando coluna indicando o dia da semana da ocorrência (Monday=0, Sunday=6)"
      ]
    },
    {
      "metadata": {
        "trusted": true,
        "id": "yi6ydfRVh-76"
      },
      "cell_type": "code",
      "source": [
        "dias_da_semana = {\n",
        "    0: \"Segunda-feira\",\n",
        "    1: \"Terça-feira\",\n",
        "    2: \"Quarta-feira\",\n",
        "    3: \"Quinta-feira\",\n",
        "    4: \"Sexta-feira\",\n",
        "    5: \"Sábado\",\n",
        "    6: \"Domingo\"\n",
        "}\n",
        "roubo_furto_dataframe['DATAOCORRENCIA'] = pd.to_datetime(roubo_furto_dataframe.DATAOCORRENCIA, format=\"%Y-%m-%d\", errors='coerce')\n",
        "roubo_furto_dataframe['DIADASEMANA'] = roubo_furto_dataframe.DATAOCORRENCIA.dt.dayofweek\n",
        "roubo_furto_dataframe['DIADASEMANADESC'] = roubo_furto_dataframe['DIADASEMANA'].map(dias_da_semana)\n",
        "roubo_furto_dataframe.DIADASEMANADESC.value_counts()"
      ],
      "execution_count": null,
      "outputs": []
    },
    {
      "metadata": {
        "trusted": true,
        "id": "j_7GzKJCh-76"
      },
      "cell_type": "code",
      "source": [
        "from pandas.plotting import register_matplotlib_converters\n",
        "register_matplotlib_converters()\n",
        "\n",
        "plt.figure(figsize=(20,8))\n",
        "sns.lineplot(x=ocorrencias.index,y=ocorrencias['Frequência'])\n",
        "plt.title('Roubo/Furto de veículos de Agosto à Dezembro de 2019', fontSize = 16)\n",
        "plt.xlabel('Data da ocorrência')\n",
        "plt.ylabel('Quantidade de veículos')\n",
        "plt.show()"
      ],
      "execution_count": null,
      "outputs": []
    },
    {
      "metadata": {
        "id": "PNJAYAi3h-76"
      },
      "cell_type": "markdown",
      "source": [
        "Adicionando coluna indicando se a data é feriado, é véspera de feriado, ou é pós feriado"
      ]
    },
    {
      "metadata": {
        "trusted": true,
        "id": "EkyN4RrQh-77"
      },
      "cell_type": "code",
      "source": [
        "feriados = pd.read_csv('../input/feriados-e-dias-da-semana-brasil/feriados.csv', delimiter=',', parse_dates=['Data'])\n",
        "feriados.drop(columns=['Dia da Semana', 'Feriado'], inplace=True)\n",
        "feriados.drop_duplicates(inplace=True)\n",
        "feriados['IND_FERIADO'] = 1"
      ],
      "execution_count": null,
      "outputs": []
    },
    {
      "metadata": {
        "trusted": true,
        "id": "LlyF8LVoh-77"
      },
      "cell_type": "code",
      "source": [
        "roubo_furto_dataframe = pd.merge(roubo_furto_dataframe, feriados, how='left', left_on='DATAOCORRENCIA', right_on='Data').drop(columns=['Data'])\n",
        "roubo_furto_dataframe['IND_FERIADO'] = roubo_furto_dataframe['IND_FERIADO'].fillna(0).astype('uint8')\n",
        "roubo_furto_dataframe['IND_FERIADO'].value_counts()\n",
        "roubo_furto_dataframe[roubo_furto_dataframe['IND_FERIADO'] == 1]['DATAOCORRENCIA'].value_counts()"
      ],
      "execution_count": null,
      "outputs": []
    },
    {
      "metadata": {
        "trusted": true,
        "id": "Renop4nlh-77"
      },
      "cell_type": "code",
      "source": [
        "pre_feriados = (feriados['Data'] + np.timedelta64(-1, 'D')).to_frame()\n",
        "pre_feriados['IND_PRE_FERIADO'] = 1"
      ],
      "execution_count": null,
      "outputs": []
    },
    {
      "metadata": {
        "trusted": true,
        "id": "AjrpeD6nh-77"
      },
      "cell_type": "code",
      "source": [
        "roubo_furto_dataframe = pd.merge(roubo_furto_dataframe, pre_feriados, how='left', left_on='DATAOCORRENCIA', right_on='Data').drop(columns=['Data'])\n",
        "roubo_furto_dataframe['IND_PRE_FERIADO'] = roubo_furto_dataframe['IND_PRE_FERIADO'].fillna(0).astype('uint8')\n",
        "roubo_furto_dataframe[roubo_furto_dataframe['IND_PRE_FERIADO'] == 1]['DATAOCORRENCIA'].value_counts()"
      ],
      "execution_count": null,
      "outputs": []
    },
    {
      "metadata": {
        "trusted": true,
        "id": "s8TZlo4Dh-78"
      },
      "cell_type": "code",
      "source": [
        "pos_feriados = (feriados['Data'] + np.timedelta64(1, 'D')).to_frame()\n",
        "pos_feriados['IND_POS_FERIADO'] = 1"
      ],
      "execution_count": null,
      "outputs": []
    },
    {
      "metadata": {
        "trusted": true,
        "id": "tsgqx9L4h-78"
      },
      "cell_type": "code",
      "source": [
        "roubo_furto_dataframe = pd.merge(roubo_furto_dataframe, pos_feriados, how='left', left_on='DATAOCORRENCIA', right_on='Data').drop(columns=['Data'])\n",
        "roubo_furto_dataframe['IND_POS_FERIADO'] = roubo_furto_dataframe['IND_POS_FERIADO'].fillna(0).astype('uint8')\n",
        "roubo_furto_dataframe[roubo_furto_dataframe['IND_POS_FERIADO'] == 1]['DATAOCORRENCIA'].value_counts()"
      ],
      "execution_count": null,
      "outputs": []
    },
    {
      "metadata": {
        "id": "Alf-NpuRh-78"
      },
      "cell_type": "markdown",
      "source": [
        "## Analisando o campo 'Marca/Modelo'"
      ]
    },
    {
      "metadata": {
        "trusted": true,
        "id": "5iaPNyOMh-78"
      },
      "cell_type": "code",
      "source": [
        "roubo_furto_dataframe.DESCR_MARCA_VEICULO.value_counts().head(20)"
      ],
      "execution_count": null,
      "outputs": []
    },
    {
      "metadata": {
        "trusted": true,
        "id": "W61Q6vBch-79"
      },
      "cell_type": "code",
      "source": [
        "print(f'{roubo_furto_dataframe[roubo_furto_dataframe.DESCR_MARCA_VEICULO.isna()].shape[0]} registros de marca modelo nulos')"
      ],
      "execution_count": null,
      "outputs": []
    },
    {
      "metadata": {
        "id": "UnwFYG7bh-79"
      },
      "cell_type": "markdown",
      "source": [
        "## Analisando o campo 'Cidades'"
      ]
    },
    {
      "metadata": {
        "trusted": true,
        "id": "WmClt93xh-79"
      },
      "cell_type": "code",
      "source": [
        "print(f'{len(roubo_furto_dataframe.CIDADE.unique())} cidades do Estado de São Paulo')\n",
        "print(f'{roubo_furto_dataframe[roubo_furto_dataframe.CIDADE.isna()].shape[0]} registros de cidade nulos')"
      ],
      "execution_count": null,
      "outputs": []
    },
    {
      "metadata": {
        "trusted": true,
        "id": "HAg5UYQEh-79"
      },
      "cell_type": "code",
      "source": [
        "roubo_furto_dataframe.CIDADE.value_counts(normalize = True).head(10)"
      ],
      "execution_count": null,
      "outputs": []
    },
    {
      "metadata": {
        "id": "SlVlx96eh-7-"
      },
      "cell_type": "markdown",
      "source": [
        "Removendo os registros de cidade nulos"
      ]
    },
    {
      "metadata": {
        "trusted": true,
        "id": "G5dJNcI8h-7-"
      },
      "cell_type": "code",
      "source": [
        "print(f'Removendo {roubo_furto_dataframe.CIDADE.isna().sum()} linhas com dados nulos')\n",
        "roubo_furto_dataframe.CIDADE.dropna(inplace = True)"
      ],
      "execution_count": null,
      "outputs": []
    },
    {
      "metadata": {
        "id": "FqpLunwhh-7-"
      },
      "cell_type": "markdown",
      "source": [
        "## Contabilizando campos nulos ou com valores vagos\n",
        "\n",
        "* Marca modelo: campos nulos\n",
        "* Ano modelo e ano fabricação: campos zerados\n",
        "* Tipo veículo: campos 'Não Informado'\n",
        "* Cor: campos 'Não Informado'\n",
        "* Local: campos 'Outros'\n",
        "* Período ocorrência: campos 'EM HORA INCERTA'"
      ]
    },
    {
      "metadata": {
        "trusted": true,
        "id": "BIXsCStjh-7-"
      },
      "cell_type": "code",
      "source": [
        "tem_algum_dado_nulo = (roubo_furto_dataframe['DESCR_COR_VEICULO'] == 'Não Informado') | (roubo_furto_dataframe['DESCR_MARCA_VEICULO'].isna()) | (roubo_furto_dataframe['ANO_MODELO'] == 0) | (roubo_furto_dataframe['ANO_FABRICACAO'] == 0) | (roubo_furto_dataframe['DESCR_TIPO_VEICULO'] == 'Não Informado') | (roubo_furto_dataframe['DESCRICAOLOCAL'] == 'Outros') | (roubo_furto_dataframe['PERIDOOCORRENCIA'] == 'EM HORA INCERTA')\n",
        "print(f'\\nTotal de linhas com algum dado nulo: {roubo_furto_dataframe[tem_algum_dado_nulo].shape[0]} de {roubo_furto_dataframe.shape[0]}')\n",
        "print(f'\\nTotal de linhas sem nenhum dado nulo: {roubo_furto_dataframe.shape[0] - roubo_furto_dataframe[tem_algum_dado_nulo].shape[0]}')"
      ],
      "execution_count": null,
      "outputs": []
    },
    {
      "metadata": {
        "id": "b9J8J-GHh-7-"
      },
      "cell_type": "markdown",
      "source": [
        "# Analisando roubo/furto de veículos em SP 2019 junto com dados do IBGE"
      ]
    },
    {
      "metadata": {
        "id": "sEMG2U5sh-7_"
      },
      "cell_type": "markdown",
      "source": [
        "Carregando a frota de SP por Município"
      ]
    },
    {
      "metadata": {
        "trusted": true,
        "id": "Yy21R3DCh-7_"
      },
      "cell_type": "code",
      "source": [
        "frota_ano_sp = pd.read_csv('../input/frota-de-veculos-2019-sp/I_Frota_por_UF_Municipio_Marca_e_Modelo_Ano_Dezembro_2019.csv', dtype=object, sep=';', encoding='utf8')"
      ],
      "execution_count": null,
      "outputs": []
    },
    {
      "metadata": {
        "trusted": true,
        "id": "UkZ8-gRyh-7_"
      },
      "cell_type": "code",
      "source": [
        "frota_ano_sp = frota_ano_sp[['Município','Qtd. Veículos']]\n",
        "frota_ano_sp.rename(columns={'Município':'municipio',\n",
        "                          'Qtd. Veículos':'qtde_veiculos'}, inplace=True)\n",
        "frota_ano_sp = frota_ano_sp.groupby(['municipio'], as_index=False).count()"
      ],
      "execution_count": null,
      "outputs": []
    },
    {
      "metadata": {
        "trusted": true,
        "id": "JEQPcz6th-7_"
      },
      "cell_type": "code",
      "source": [
        "print(f'A frota de SP possui {frota_ano_sp.qtde_veiculos.sum()} veículos (dados do Denatran)')"
      ],
      "execution_count": null,
      "outputs": []
    },
    {
      "metadata": {
        "trusted": true,
        "id": "dbIcKNLGh-7_"
      },
      "cell_type": "code",
      "source": [
        "frota_ano_sp.sort_values(by='qtde_veiculos',ascending=False).head()"
      ],
      "execution_count": null,
      "outputs": []
    },
    {
      "metadata": {
        "id": "BCB2Ex9Oh-8A"
      },
      "cell_type": "markdown",
      "source": [
        "Agregando a quantidade de roubos/furtos por município de SP"
      ]
    },
    {
      "metadata": {
        "trusted": true,
        "id": "qJdE-2ITh-8A"
      },
      "cell_type": "code",
      "source": [
        "roubo_furto_dataframe['qtde_roubos'] = 1\n",
        "df_roubos_agregado = roubo_furto_dataframe.groupby(['CIDADE'], as_index=False).count()\n",
        "df_roubos_agregado.rename(columns={'CIDADE':'municipio'}, inplace=True)\n",
        "df_roubos_agregado = df_roubos_agregado[['municipio','qtde_roubos']]\n",
        "df_roubos_agregado.sort_values(by='qtde_roubos',ascending=False).head()"
      ],
      "execution_count": null,
      "outputs": []
    },
    {
      "metadata": {
        "id": "FmPWzMxzh-8A"
      },
      "cell_type": "markdown",
      "source": [
        "Compatibilizando o nome dos municípios entre os dataframes de frota e de roubo/furto de veículos"
      ]
    },
    {
      "metadata": {
        "trusted": true,
        "id": "guZxYMAxh-8A"
      },
      "cell_type": "code",
      "source": [
        "df_roubos_agregado['municipio'] = df_roubos_agregado['municipio'].str.replace('S.PAULO', 'SAO PAULO')\n",
        "df_roubos_agregado['municipio'] = df_roubos_agregado['municipio'].str.replace('S.ANDRE', 'SANTO ANDRE')\n",
        "df_roubos_agregado['municipio'] = df_roubos_agregado['municipio'].str.replace('S.BERNARDO DO CAMPO', 'SAO BERNARDO DO CAMPO')\n",
        "df_roubos_agregado['municipio'] = df_roubos_agregado['municipio'].str.replace('S.JOSE DOS CAMPOS', 'SAO JOSE DOS CAMPOS')\n",
        "df_roubos_agregado['municipio'] = df_roubos_agregado['municipio'].str.replace('S.VICENTE', 'SAO VICENTE')\n",
        "df_roubos_agregado['municipio'] = df_roubos_agregado['municipio'].str.replace('S.BARBARA D OESTE', 'SANTA BARBARA D\\'OESTE')\n",
        "df_roubos_agregado['municipio'] = df_roubos_agregado['municipio'].str.replace('S.CARLOS', 'SAO CARLOS')\n",
        "df_roubos_agregado['municipio'] = df_roubos_agregado['municipio'].str.replace('S.ISABEL', 'SANTA ISABEL')\n",
        "df_roubos_agregado['municipio'] = df_roubos_agregado['municipio'].str.replace('S.LOURENCO DA SERRA', 'SAO LOURENCO DA SERRA')\n",
        "df_roubos_agregado['municipio'] = df_roubos_agregado['municipio'].str.replace('S.ROQUE', 'SAO ROQUE')\n",
        "df_roubos_agregado['municipio'] = df_roubos_agregado['municipio'].str.replace('S.CAETANO DO SUL', 'SAO CAETANO DO SUL')\n",
        "df_roubos_agregado['municipio'] = df_roubos_agregado['municipio'].str.replace('S.JOSE DO RIO PRETO', 'SAO JOSE DO RIO PRETO')\n",
        "df_roubos_agregado['municipio'] = df_roubos_agregado['municipio'].str.replace('S.ANTONIO DE POSSE', 'SANTO ANTONIO DE POSSE')\n",
        "df_roubos_agregado['municipio'] = df_roubos_agregado['municipio'].str.replace('S.ANTONIO DO JARDIM', 'SANTO ANTONIO DO JARDIM')\n",
        "df_roubos_agregado['municipio'] = df_roubos_agregado['municipio'].str.replace('S.SEBASTIAO', 'SAO SEBASTIAO')\n",
        "df_roubos_agregado['municipio'] = df_roubos_agregado['municipio'].str.replace('S.JOSE DO RIO PARDO', 'SAO JOSE DO RIO PARDO')\n",
        "df_roubos_agregado['municipio'] = df_roubos_agregado['municipio'].str.replace('S.SEBASTIAO', 'SAO SEBASTIAO')\n",
        "df_roubos_agregado['municipio'] = df_roubos_agregado['municipio'].str.replace('S.MARIA DA SERRA', 'SANTA MARIA DA SERRA')\n",
        "df_roubos_agregado['municipio'] = df_roubos_agregado['municipio'].str.replace('S.CRUZ DAS PALMEIRAS', 'SANTA CRUZ DAS PALMEIRAS')\n",
        "df_roubos_agregado['municipio'] = df_roubos_agregado['municipio'].str.replace('S.SEBASTIAO', 'SAO SEBASTIAO')\n",
        "df_roubos_agregado['municipio'] = df_roubos_agregado['municipio'].str.replace('S.GERTRUDES', 'SANTA GERTRUDES')\n",
        "df_roubos_agregado['municipio'] = df_roubos_agregado['municipio'].str.replace('S.ANTONIO DA ALEGRIA', 'SANTO ANTONIO DA ALEGRIA')\n",
        "df_roubos_agregado['municipio'] = df_roubos_agregado['municipio'].str.replace('S.ANTONIO DE ARACANGUA', 'SANTO ANTONIO DO ARACANGUA')\n",
        "df_roubos_agregado['municipio'] = df_roubos_agregado['municipio'].str.replace('S.ANTONIO DO PINHAL', 'SANTO ANTONIO DO PINHAL')\n",
        "df_roubos_agregado['municipio'] = df_roubos_agregado['municipio'].str.replace('S.BENTO DO SAPUCAI', 'SAO BENTO DO SAPUCAI')\n",
        "df_roubos_agregado['municipio'] = df_roubos_agregado['municipio'].str.replace('S.BRANCA', 'SANTA BRANCA')\n",
        "df_roubos_agregado['municipio'] = df_roubos_agregado['municipio'].str.replace('S.CLARA D OESTE', 'SANTA CLARA D\\'OESTE')\n",
        "df_roubos_agregado['municipio'] = df_roubos_agregado['municipio'].str.replace('S.CRUZ DA ESPERANCA', 'SANTA CRUZ DA ESPERANCA')\n",
        "df_roubos_agregado['municipio'] = df_roubos_agregado['municipio'].str.replace('S.CRUZ DO RIO PARDO', 'SANTA CRUZ DO RIO PARDO')\n",
        "df_roubos_agregado['municipio'] = df_roubos_agregado['municipio'].str.replace('S.ERNESTINA', 'SANTA ERNESTINA')\n",
        "df_roubos_agregado['municipio'] = df_roubos_agregado['municipio'].str.replace('S.FE DO SUL', 'SANTA FE DO SUL')\n",
        "df_roubos_agregado['municipio'] = df_roubos_agregado['municipio'].str.replace('S.FRANCISCO', 'SAO FRANCISCO')\n",
        "df_roubos_agregado['municipio'] = df_roubos_agregado['municipio'].str.replace('S.JOAO DA BOA VISTA', 'SAO JOAO DA BOA VISTA')\n",
        "df_roubos_agregado['municipio'] = df_roubos_agregado['municipio'].str.replace('S.JOAQUIM DA BARRA', 'SAO JOAQUIM DA BARRA')\n",
        "df_roubos_agregado['municipio'] = df_roubos_agregado['municipio'].str.replace('S.JOSE DA BELA VISTA', 'SAO JOSE DA BELA VISTA')\n",
        "df_roubos_agregado['municipio'] = df_roubos_agregado['municipio'].str.replace('S.LUIS DO PARAITINGA', 'SAO LUIZ DO PARAITINGA')\n",
        "df_roubos_agregado['municipio'] = df_roubos_agregado['municipio'].str.replace('S.MANUEL', 'SAO MANUEL')\n",
        "df_roubos_agregado['municipio'] = df_roubos_agregado['municipio'].str.replace('S.MIGUEL ARCANJO', 'SAO MIGUEL ARCANJO')\n",
        "df_roubos_agregado['municipio'] = df_roubos_agregado['municipio'].str.replace('S.PEDRO', 'SAO PEDRO')\n",
        "df_roubos_agregado['municipio'] = df_roubos_agregado['municipio'].str.replace('S.PEDRO DO TURVO', 'SAO PEDRO DO TURVO')\n",
        "df_roubos_agregado['municipio'] = df_roubos_agregado['municipio'].str.replace('S.RITA D OESTE', 'SANTA RITA D\\'OESTE')\n",
        "df_roubos_agregado['municipio'] = df_roubos_agregado['municipio'].str.replace('S.RITA PASSA QUATRO', 'SANTA RITA DO PASSA QUATRO')\n",
        "df_roubos_agregado['municipio'] = df_roubos_agregado['municipio'].str.replace('S.ROSA DE VITERBO', 'SANTA ROSA DE VITERBO')\n",
        "df_roubos_agregado['municipio'] = df_roubos_agregado['municipio'].str.replace('S.SIMAO', 'SAO SIMAO')\n",
        "df_roubos_agregado['municipio'] = df_roubos_agregado['municipio'].str.replace('APARECIDA D OESTE', 'APARECIDA D\\'OESTE')\n",
        "df_roubos_agregado['municipio'] = df_roubos_agregado['municipio'].str.replace('ESPIRITO STO. PINHAL', 'ESPIRITO SANTO DO PINHAL')\n",
        "df_roubos_agregado['municipio'] = df_roubos_agregado['municipio'].str.replace('ESTRELA D OESTE', 'ESTRELA D\\'OESTE')\n",
        "df_roubos_agregado['municipio'] = df_roubos_agregado['municipio'].str.replace('PALMEIRA D OESTE', 'PALMEIRA D\\'OESTE')\n",
        "df_roubos_agregado['municipio'] = df_roubos_agregado['municipio'].str.replace('MIRANTE PARANAPANEMA', 'MIRANTE DO PARANAPANEMA')\n",
        "df_roubos_agregado['municipio'] = df_roubos_agregado['municipio'].str.replace('MOGI GUACU', 'MOGI-GUACU')\n",
        "df_roubos_agregado['municipio'] = df_roubos_agregado['municipio'].str.replace('MOGI MIRIM', 'MOGI-MIRIM')\n",
        "df_roubos_agregado['municipio'] = df_roubos_agregado['municipio'].str.replace('PIRAPORA BOM JESUS', 'PIRAPORA DO BOM JESUS')\n",
        "df_roubos_agregado['municipio'] = df_roubos_agregado['municipio'].str.replace('SANTA BARBARA D OESTE', 'SANTA BARBARA D\\'OESTE')\n",
        "df_roubos_agregado['municipio'] = df_roubos_agregado['municipio'].str.replace('SANTO ANTONIO DO JARDIM', 'SANTO ANTONIO DO JARDIM')\n",
        "df_roubos_agregado['municipio'] = df_roubos_agregado['municipio'].str.replace('EMBU DAS ARTES', 'EMBU')"
      ],
      "execution_count": null,
      "outputs": []
    },
    {
      "metadata": {
        "id": "TPCCGpIah-8B"
      },
      "cell_type": "markdown",
      "source": [
        "Gerando a taxa de veículos roubados/furtados a cada 1000 veículos por município"
      ]
    },
    {
      "metadata": {
        "trusted": true,
        "id": "yzW1YLq8h-8B"
      },
      "cell_type": "code",
      "source": [
        "df_roubos_agregado = pd.merge(df_roubos_agregado, frota_ano_sp,  how='left', left_on='municipio', right_on = 'municipio')\n",
        "df_roubos_agregado['tx_roubo_frota'] = (df_roubos_agregado['qtde_roubos']/df_roubos_agregado['qtde_veiculos'])*1000"
      ],
      "execution_count": null,
      "outputs": []
    },
    {
      "metadata": {
        "trusted": true,
        "id": "JDDBmkYRh-8C"
      },
      "cell_type": "code",
      "source": [
        "df_roubos_agregado.sort_values(by='tx_roubo_frota', ascending=False)"
      ],
      "execution_count": null,
      "outputs": []
    },
    {
      "metadata": {
        "id": "JjjXd1SFh-8C"
      },
      "cell_type": "markdown",
      "source": [
        "Carregando código do IBGE de cada município"
      ]
    },
    {
      "metadata": {
        "trusted": true,
        "id": "rAhZgomZh-8C"
      },
      "cell_type": "code",
      "source": [
        "df_municipio = pd.read_csv('../input/municipios-sp-ibge/municipios.csv', dtype=object, sep=';', encoding='iso-8859-1')"
      ],
      "execution_count": null,
      "outputs": []
    },
    {
      "metadata": {
        "trusted": true,
        "id": "pkv8gsNvh-8D"
      },
      "cell_type": "code",
      "source": [
        "df_municipio = pd.DataFrame (df_municipio, columns = ['cod_municipio_ibge','sig_uf','municipio'])\n",
        "df_municipio_sp = df_municipio[df_municipio['sig_uf'] == 'SP']"
      ],
      "execution_count": null,
      "outputs": []
    },
    {
      "metadata": {
        "id": "qy76e4sth-8D"
      },
      "cell_type": "markdown",
      "source": [
        "Compatibilizando o nome dos municípios"
      ]
    },
    {
      "metadata": {
        "trusted": true,
        "id": "4TkneBOjh-8D"
      },
      "cell_type": "code",
      "source": [
        "df_roubos_agregado['municipio'] = df_roubos_agregado['municipio'].str.replace('EMBU', 'EMBU DAS ARTES')\n",
        "df_roubos_agregado['municipio'] = df_roubos_agregado['municipio'].str.replace('MOGI-GUACU', 'MOGI GUACU')\n",
        "df_roubos_agregado['municipio'] = df_roubos_agregado['municipio'].str.replace('MOGI-MIRIM', 'MOGI MIRIM')"
      ],
      "execution_count": null,
      "outputs": []
    },
    {
      "metadata": {
        "trusted": true,
        "id": "VQvranJdh-8E"
      },
      "cell_type": "code",
      "source": [
        "del df_municipio_sp['sig_uf']"
      ],
      "execution_count": null,
      "outputs": []
    },
    {
      "metadata": {
        "trusted": true,
        "id": "5C0zsbvxh-8E"
      },
      "cell_type": "code",
      "source": [
        "df_roubos_agregado = pd.merge(df_roubos_agregado, df_municipio_sp,  how='left', left_on='municipio', right_on = 'municipio')"
      ],
      "execution_count": null,
      "outputs": []
    },
    {
      "metadata": {
        "trusted": true,
        "id": "jtKztIIfh-8E"
      },
      "cell_type": "code",
      "source": [
        "df_roubos_agregado.head()"
      ],
      "execution_count": null,
      "outputs": []
    },
    {
      "metadata": {
        "id": "fuRTpnxih-8E"
      },
      "cell_type": "markdown",
      "source": [
        "Lendo dados dos IBGE"
      ]
    },
    {
      "metadata": {
        "trusted": true,
        "id": "EiDcKjOAh-8F"
      },
      "cell_type": "code",
      "source": [
        "df_municipio_ibge = pd.read_csv('../input/municipios-sp-ibge/municipios_ibge.csv', dtype=object, sep=';', encoding='iso-8859-1')"
      ],
      "execution_count": null,
      "outputs": []
    },
    {
      "metadata": {
        "trusted": true,
        "id": "aeluswtah-8F"
      },
      "cell_type": "code",
      "source": [
        "df_municipio_ibge['receitas_realizadas'] = df_municipio_ibge['receitas_realizadas'].astype('float').round()\n",
        "df_municipio_ibge['despesas_empenhadas'] = df_municipio_ibge['despesas_empenhadas'].astype('float').round()"
      ],
      "execution_count": null,
      "outputs": []
    },
    {
      "metadata": {
        "trusted": true,
        "id": "Y29-1eWzh-8F"
      },
      "cell_type": "code",
      "source": [
        "df_roubos_agregado = pd.merge(df_roubos_agregado, df_municipio_ibge,  how='left', left_on='cod_municipio_ibge', right_on = 'cod_municipio_ibge')"
      ],
      "execution_count": null,
      "outputs": []
    },
    {
      "metadata": {
        "trusted": true,
        "id": "r69fH7vUh-8F"
      },
      "cell_type": "code",
      "source": [
        "df_roubos_agregado.info()"
      ],
      "execution_count": null,
      "outputs": []
    },
    {
      "metadata": {
        "trusted": true,
        "id": "ikqdfLlUh-8G"
      },
      "cell_type": "code",
      "source": [
        "df_roubos_agregado = df_roubos_agregado[df_roubos_agregado['mortalizade_infantil_por_mil']!= '-']\n",
        "df_roubos_agregado['mortalizade_infantil_por_mil'] = df_roubos_agregado['mortalizade_infantil_por_mil'].astype('float')\n",
        "\n",
        "df_roubos_agregado['população'] = pd.to_numeric(df_roubos_agregado['população'], errors='coerce')\n",
        "df_roubos_agregado.dropna(inplace=True)\n",
        "df_roubos_agregado['população'] = df_roubos_agregado['população'].astype('int64')\n",
        "\n",
        "df_roubos_agregado['idhm'] = df_roubos_agregado['idhm'].astype('float')\n",
        "df_roubos_agregado['densidade_demografica'] = df_roubos_agregado['densidade_demografica'].astype('float')\n",
        "df_roubos_agregado['escolarizacao_06_a_14_%'] = df_roubos_agregado['escolarizacao_06_a_14_%'].astype('float')\n",
        "df_roubos_agregado['pib_percapita'] = df_roubos_agregado['pib_percapita'].astype('float')"
      ],
      "execution_count": null,
      "outputs": []
    },
    {
      "metadata": {
        "id": "UqCnC7CYh-8G"
      },
      "cell_type": "markdown",
      "source": [
        "Correlação entre a taxa de roubo/furto de veículos e IDH, Receita, Mortalidade Infatil, Densidade demográfica, Eslocarização e PIB de cada município de SP"
      ]
    },
    {
      "metadata": {
        "trusted": true,
        "id": "aGF8Y4Hfh-8G"
      },
      "cell_type": "code",
      "source": [
        "df_roubos_agregado_corr = df_roubos_agregado[['tx_roubo_frota', 'densidade_demografica', 'escolarizacao_06_a_14_%', 'idhm', 'mortalizade_infantil_por_mil', 'receitas_realizadas', 'despesas_empenhadas', 'pib_percapita']]\n",
        "matriz_corr = df_roubos_agregado_corr.corr()\n",
        "plt.figure(figsize=(10,5))\n",
        "sns.heatmap(matriz_corr, annot=True)\n",
        "plt.show()"
      ],
      "execution_count": null,
      "outputs": []
    },
    {
      "metadata": {
        "trusted": true,
        "id": "IHQLAG6Oh-8G"
      },
      "cell_type": "code",
      "source": [
        "mask = np.triu(np.ones_like(matriz_corr, dtype=np.bool))\n",
        "f, ax = plt.subplots(figsize=(11, 9))\n",
        "cmap = sns.diverging_palette(220, 10, as_cmap=True)\n",
        "sns.heatmap(matriz_corr, mask=mask, cmap=cmap, vmax=.3, center=0,\n",
        "            square=True, linewidths=.5, cbar_kws={\"shrink\": .5})\n",
        "plt.show()"
      ],
      "execution_count": null,
      "outputs": []
    },
    {
      "metadata": {
        "id": "pM0T64Fwh-8H"
      },
      "cell_type": "markdown",
      "source": [
        "# Analisando padrões nas ocorrências de roubo/furto através de agrupamento"
      ]
    },
    {
      "metadata": {
        "trusted": true,
        "id": "gnPJ4rYAh-8H"
      },
      "cell_type": "code",
      "source": [
        "scaler = StandardScaler()"
      ],
      "execution_count": null,
      "outputs": []
    },
    {
      "metadata": {
        "trusted": true,
        "id": "GvsJnSg0h-8H"
      },
      "cell_type": "code",
      "source": [
        "def kmeans(numero_de_clusters, dados):\n",
        "  modelo = KMeans(n_clusters=numero_de_clusters)\n",
        "  modelo.fit(dados)\n",
        "  return [numero_de_clusters, modelo.inertia_]"
      ],
      "execution_count": null,
      "outputs": []
    },
    {
      "metadata": {
        "trusted": true,
        "id": "xA0svRDyh-8H"
      },
      "cell_type": "code",
      "source": [
        "#plotando os dados do dataframe no mapa de São Paulo e com a cor do grupo associado\n",
        "def plotando_no_mapa_todos_grupos(dados):\n",
        "    #Importanto o mapa de municípios do Estado de SP\n",
        "    sp = gpd.read_file('../input/sp-municpios-geopandas/35MUE250GC_SIR.shp')\n",
        "\n",
        "    geometry = [Point(x) for x in zip(dados['LONGITUDE'], dados['LATITUDE'])]\n",
        "    crs = {'proj': 'latlong', 'ellps': 'WGS84', 'datum': 'WGS84', 'no_defs': True}\n",
        "    geo_dados = gpd.GeoDataFrame(dados, crs = crs, geometry = geometry)\n",
        "    base = sp.plot(color='white', edgecolor='black', figsize=(20, 12))\n",
        "    geo_dados.plot(ax=base, figsize=(20, 12), alpha=0.8, column='GRUPO_DESC',categorical=True,\n",
        "               legend=True, legend_kwds={'fontsize':14}, markersize=2)\n",
        "    base.axis('off')\n",
        "    base.set_title('Grupos de ocorrências de roubo e furto em SP',fontsize=20)\n",
        "    plt.tight_layout()\n",
        "    plt.savefig('analise_roubos_sp.png',dpi=300)"
      ],
      "execution_count": null,
      "outputs": []
    },
    {
      "metadata": {
        "trusted": true,
        "id": "f1jiZ_Inh-8I"
      },
      "cell_type": "code",
      "source": [
        "#plotando os dados de apenas um grupo do dataframe no mapa de São Paulo\n",
        "def plotando_grupo_no_mapa(dataframe, grupo, grupos):\n",
        "    #Importanto o mapa de municípios do Estado de SP\n",
        "    sp = gpd.read_file('../input/sp-municpios-geopandas/35MUE250GC_SIR.shp')\n",
        "\n",
        "    #filtrando o grupo escolhido\n",
        "    filtro = dataframe['grupo'] == grupo\n",
        "    dados = dataframe[filtro]\n",
        "\n",
        "    fig = plt.figure(figsize=(50, 30))\n",
        "\n",
        "    ax1 = plt.subplot2grid((20, 40), (0, 0), colspan=36, rowspan=20)\n",
        "    ax2 = plt.subplot2grid((20, 40), (0, 36), colspan=4, rowspan=10)\n",
        "\n",
        "    geometry = [Point(x) for x in zip(dados['LONGITUDE'], dados['LATITUDE'])]\n",
        "    crs = {'proj': 'latlong', 'ellps': 'WGS84', 'datum': 'WGS84', 'no_defs': True}\n",
        "    geo_dados = gpd.GeoDataFrame(dados, crs = crs, geometry = geometry)\n",
        "    base = sp.plot(color='white', edgecolor='black', ax=ax1)\n",
        "    geo_dados.plot(ax=base, figsize=(20, 12), alpha=0.8, column='grupo',categorical=True,\n",
        "               legend=False, legend_kwds={'fontsize':14}, markersize=5)\n",
        "    base.axis('off')\n",
        "    base.set_title(f'Grupos de ocorrências de roubo e furto em SP - Grupo {grupo}',fontsize=24)\n",
        "    grupos.iloc[grupo][grupos.iloc[grupo] > 0].sort_values().plot.barh(ax=ax2, fontsize=20)\n",
        "    fig.savefig(f'roubo_sp_grupo{grupo}.png')"
      ],
      "execution_count": null,
      "outputs": []
    },
    {
      "metadata": {
        "trusted": true,
        "id": "JfnImIvqh-8I"
      },
      "cell_type": "code",
      "source": [
        "#plotando os dados do dataframe no mapa de São Paulo e com a cor do grupo associado e guardando em uma imagem png\n",
        "def gerando_imagem_do_mapa(grupo, dataframe):\n",
        "    #Importanto o mapa de municípios do Estado de SP\n",
        "    sp = gpd.read_file('../input/sp-municpios-geopandas/35MUE250GC_SIR.shp')\n",
        "\n",
        "    #filtrando o grupo escolhido\n",
        "    filtro = dataframe['grupo'] == grupo\n",
        "    dados = dataframe[filtro]\n",
        "\n",
        "    geometry = [Point(x) for x in zip(dados['LONGITUDE'], dados['LATITUDE'])]\n",
        "    crs = {'proj': 'latlong', 'ellps': 'WGS84', 'datum': 'WGS84', 'no_defs': True}\n",
        "    geo_dados = gpd.GeoDataFrame(dados, crs = crs, geometry = geometry)\n",
        "    base = sp.plot(color='white', edgecolor='black', figsize=(20, 12))\n",
        "    geo_dados.plot(ax=base, figsize=(20, 12), alpha=0.8, column='GRUPO_DESC',categorical=True,\n",
        "               legend=True, legend_kwds={'fontsize':14}, markersize=5)\n",
        "    base.axis('off')\n",
        "    base.set_title('Grupos de ocorrências de roubo e furto em SP',fontsize=20)\n",
        "    plt.tight_layout()\n",
        "    plt.savefig('analise_roubos_sp_'+ grupo + '.png',dpi=300)"
      ],
      "execution_count": null,
      "outputs": []
    },
    {
      "metadata": {
        "trusted": true,
        "id": "wakswUY-h-8I"
      },
      "cell_type": "code",
      "source": [
        "#treinamento Kmeans com k variando do valor inicial ao final e análise do gráfico da inércia\n",
        "def treinamento_kmeans_analise_inertia(dataframe, k_inicial, k_final):\n",
        "    resultado = [kmeans(numero_de_grupos, dataframe) for numero_de_grupos in range(k_inicial, k_final)]\n",
        "    resultado = pd.DataFrame(resultado,\n",
        "            columns=['grupos', 'inertia'])\n",
        "    resultado.inertia.plot(xticks=resultado.grupos)\n",
        "    plt.show()"
      ],
      "execution_count": null,
      "outputs": []
    },
    {
      "metadata": {
        "trusted": true,
        "id": "fbesXnZGh-8I"
      },
      "cell_type": "code",
      "source": [
        "# def optimal_number_of_clusters(wcss):\n",
        "#     x1, y1 = 2, wcss[0]\n",
        "#     x2, y2 = 20, wcss[len(wcss)-1]\n",
        "\n",
        "#     distances = []\n",
        "#     for i in range(len(wcss)):\n",
        "#         x0 = i+2\n",
        "#         y0 = wcss[i]\n",
        "#         numerator = abs((y2-y1)*x0 - (x2-x1)*y0 + x2*y1 - y2*x1)\n",
        "#         denominator = sqrt((y2 - y1)**2 + (x2 - x1)**2)\n",
        "#         distances.append(numerator/denominator)\n",
        "\n",
        "#     return distances.index(max(distances)) + 2"
      ],
      "execution_count": null,
      "outputs": []
    },
    {
      "metadata": {
        "trusted": true,
        "id": "OIsL1RZXh-8I"
      },
      "cell_type": "code",
      "source": [
        "#analisando as características que mais aparecem em cada grupo\n",
        "def analisando_grupos(dataframe, modelo, columns):\n",
        "    grupos = pd.DataFrame(modelo.cluster_centers_,\n",
        "            columns=dataframe.columns)\n",
        "    grupos.transpose().plot.bar(subplots=True,\n",
        "               figsize=(20, 80),\n",
        "               layout=(25,columns),\n",
        "               sharex=True)\n",
        "    plt.show()\n",
        "    return grupos"
      ],
      "execution_count": null,
      "outputs": []
    },
    {
      "metadata": {
        "trusted": true,
        "id": "ZBvpheSuh-8J"
      },
      "cell_type": "code",
      "source": [
        "def obter_grupos(dataframe, modelo):\n",
        "    grupos = pd.DataFrame(modelo.cluster_centers_,columns=dataframe.columns)\n",
        "    return grupos"
      ],
      "execution_count": null,
      "outputs": []
    },
    {
      "metadata": {
        "trusted": true,
        "id": "lIVq_FbHh-8J"
      },
      "cell_type": "code",
      "source": [
        "#obter string com as caracteristicas mais marcantes do grupo\n",
        "def obter_label_do_grupo(grupo, grupos):\n",
        "    label = ''\n",
        "    for x in grupos.iloc[grupo][grupos.iloc[grupo] > 0.0].sort_values(ascending = False).index.values:\n",
        "        label = label + ', ' + x\n",
        "    label = label[2:]\n",
        "    return label"
      ],
      "execution_count": null,
      "outputs": []
    },
    {
      "metadata": {
        "trusted": true,
        "id": "p1zEcXX1h-8J"
      },
      "cell_type": "code",
      "source": [
        "def analisar_grupos_em_2_dimensoes_tsne(dataframe, modelo, k):\n",
        "\n",
        "    #demora para rodar\n",
        "    tsne = TSNE()\n",
        "    visualizacao = tsne.fit_transform(dataframe)\n",
        "\n",
        "    sns.set(rc={'figure.figsize': (15, 15)})\n",
        "    sns.scatterplot(x=visualizacao[:, 0],\n",
        "                    y=visualizacao[:, 1],\n",
        "                    hue=modelo.labels_,\n",
        "                    palette=sns.color_palette('Set2', k))\n",
        "    plt.show()"
      ],
      "execution_count": null,
      "outputs": []
    },
    {
      "metadata": {
        "trusted": true,
        "id": "Pm-MPC_bh-8K"
      },
      "cell_type": "code",
      "source": [
        "from sklearn.decomposition import PCA\n",
        "def analisar_grupos_em_2_dimensoes_pca(dataframe, modelo, k):\n",
        "    pca = PCA(n_components=2)\n",
        "    pca.fit(dataframe)\n",
        "    visualizacao = pca.transform(dataframe)\n",
        "\n",
        "    sns.set(rc={'figure.figsize': (15, 15)})\n",
        "    sns.scatterplot(x=visualizacao[:, 0],\n",
        "                    y=visualizacao[:, 1],\n",
        "                    hue=modelo.labels_,\n",
        "                    palette=sns.color_palette('Set2', k))\n",
        "    plt.show()"
      ],
      "execution_count": null,
      "outputs": []
    },
    {
      "metadata": {
        "trusted": true,
        "id": "Vuc7C6zeh-8K"
      },
      "cell_type": "code",
      "source": [
        "def analisar_correlacoes(dataframe):\n",
        "    matriz_corr = dataframe.corr()\n",
        "    plt.figure(figsize=(10,5))\n",
        "    sns.heatmap(matriz_corr, annot=True)\n",
        "    plt.show()"
      ],
      "execution_count": null,
      "outputs": []
    },
    {
      "metadata": {
        "id": "XJq9hDBuh-8K"
      },
      "cell_type": "markdown",
      "source": [
        "1. ## Agrupando os veículos roubados/furtados com base no Local e no Período da Ocorrência"
      ]
    },
    {
      "metadata": {
        "id": "fKvf3gv4h-8K"
      },
      "cell_type": "markdown",
      "source": [
        "Desconsiderando dados nulos ou vagos e considerando apenas as colunas desejadas"
      ]
    },
    {
      "metadata": {
        "trusted": true,
        "id": "OJFCZWdoh-8K"
      },
      "cell_type": "code",
      "source": [
        "dados_validos = (roubo_furto_dataframe['LOCAL'] != 'Outros') & (roubo_furto_dataframe['PERIDOOCORRENCIA'] != 'EM HORA INCERTA')\n",
        "roubo_locais_latlon = roubo_furto_dataframe[dados_validos]\n",
        "roubo_locais_latlon = roubo_locais_latlon[['LOCAL', 'PERIDOOCORRENCIA', 'LATITUDE', 'LONGITUDE']]\n",
        "roubo_locais_latlon = roubo_locais_latlon.reset_index()"
      ],
      "execution_count": null,
      "outputs": []
    },
    {
      "metadata": {
        "id": "9_0q1Oj4h-8L"
      },
      "cell_type": "markdown",
      "source": [
        "Gerando dummies das colunas categóricas 'LOCAL' e 'PERIDOOCORRENCIA'"
      ]
    },
    {
      "metadata": {
        "trusted": true,
        "id": "b77RbmVeh-8L"
      },
      "cell_type": "code",
      "source": [
        "locais = roubo_locais_latlon.LOCAL.str.get_dummies()\n",
        "periodos = roubo_locais_latlon.PERIDOOCORRENCIA.str.get_dummies()\n",
        "roubos = pd.concat([locais,periodos], axis = 1)"
      ],
      "execution_count": null,
      "outputs": []
    },
    {
      "metadata": {
        "id": "eVT5cPknh-8L"
      },
      "cell_type": "markdown",
      "source": [
        "Escalonização dos dados"
      ]
    },
    {
      "metadata": {
        "trusted": true,
        "id": "CENNwl7ch-8L"
      },
      "cell_type": "code",
      "source": [
        "roubos_escalados = scaler.fit_transform(roubos)"
      ],
      "execution_count": null,
      "outputs": []
    },
    {
      "metadata": {
        "id": "Z2OCnIFnh-8L"
      },
      "cell_type": "markdown",
      "source": [
        "Gerando agrupamentos com k variando de 1 a 20 grupos"
      ]
    },
    {
      "metadata": {
        "trusted": true,
        "id": "iaVXmp6wh-8L"
      },
      "cell_type": "code",
      "source": [
        "treinamento_kmeans_analise_inertia(roubos_escalados,1,20)"
      ],
      "execution_count": null,
      "outputs": []
    },
    {
      "metadata": {
        "id": "9iILyAxhh-8L"
      },
      "cell_type": "markdown",
      "source": [
        "Após análise da inércia, pelo método do cotovelo, percebemos que o valor próximo do ideal seria k = 10"
      ]
    },
    {
      "metadata": {
        "trusted": true,
        "id": "SXBlja9ph-8L"
      },
      "cell_type": "code",
      "source": [
        "modelo = KMeans(n_clusters=10, random_state=50)\n",
        "modelo.fit(roubos_escalados)"
      ],
      "execution_count": null,
      "outputs": []
    },
    {
      "metadata": {
        "trusted": true,
        "id": "IsR-YXd4h-8M"
      },
      "cell_type": "code",
      "source": [
        "analisar_grupos_em_2_dimensoes_tsne(roubos,modelo,10)"
      ],
      "execution_count": null,
      "outputs": []
    },
    {
      "metadata": {
        "trusted": true,
        "id": "e0zTXEach-8M"
      },
      "cell_type": "code",
      "source": [
        "classificacao = pd.DataFrame(modelo.labels_, columns = ['grupo'])\n",
        "classificacao.grupo.value_counts()"
      ],
      "execution_count": null,
      "outputs": []
    },
    {
      "metadata": {
        "trusted": true,
        "id": "msTd5NdNh-8M"
      },
      "cell_type": "code",
      "source": [
        "analisando_grupos(roubos, modelo, 5)"
      ],
      "execution_count": null,
      "outputs": []
    },
    {
      "metadata": {
        "trusted": true,
        "id": "W6bTt4Meh-8M"
      },
      "cell_type": "code",
      "source": [
        "grupos_labels = {\n",
        "    0 : \"Via pública, de madrugada\",\n",
        "    1 : \"Via pública, à noite\",\n",
        "    2 : \"Via pública, pela manhã\",\n",
        "    3 : \"Via pública, à tarde\",\n",
        "    4 : \"Zona Rural, à noite\",\n",
        "    5 : \"Veículo em movimento, à noite\",\n",
        "    6 : \"Residência, de madrugada\",\n",
        "    7 : \"Estacionamento, à tarde\",\n",
        "    8 : \"Comércio e serviço, de madrugada\",\n",
        "    9 : \"Estrada, de madrugada\"\n",
        "}"
      ],
      "execution_count": null,
      "outputs": []
    },
    {
      "metadata": {
        "trusted": true,
        "id": "JdmGlKojh-8M"
      },
      "cell_type": "code",
      "source": [
        "roubo_locais_latlon_grupo = pd.concat([roubo_locais_latlon,classificacao], axis = 1)\n",
        "roubo_locais_latlon_grupo['GRUPO_DESC'] = roubo_locais_latlon_grupo['grupo'].map(grupos_labels)\n",
        "roubo_locais_latlon_grupo['GRUPO_DESC'].value_counts()"
      ],
      "execution_count": null,
      "outputs": []
    },
    {
      "metadata": {
        "trusted": true,
        "id": "FGQGXckNh-8N"
      },
      "cell_type": "code",
      "source": [
        "plotando_no_mapa_todos_grupos(roubo_locais_latlon_grupo)\n"
      ],
      "execution_count": null,
      "outputs": []
    },
    {
      "metadata": {
        "id": "hcqhBt95h-8N"
      },
      "cell_type": "markdown",
      "source": [
        "## Agrupando os veículos roubados/furtados com base no Local, no Período da Ocorrência, no tipo de veículo"
      ]
    },
    {
      "metadata": {
        "trusted": true,
        "id": "v63JS1j7h-8N"
      },
      "cell_type": "code",
      "source": [
        "dados_validos = (roubo_furto_dataframe['LOCAL'] != 'Outros') & (roubo_furto_dataframe['PERIDOOCORRENCIA'] != 'EM HORA INCERTA') & (roubo_furto_dataframe['DESCR_TIPO_VEICULO'] != 'Não Informado')\n",
        "roubo_locais_tipo_latlon = roubo_furto_dataframe[dados_validos]\n",
        "roubo_locais_tipo_latlon = roubo_locais_tipo_latlon[['LOCAL', 'PERIDOOCORRENCIA','TIPODECRIME','DESCR_TIPO_VEICULO','LATITUDE', 'LONGITUDE']]\n",
        "roubo_locais_tipo_latlon = roubo_locais_tipo_latlon.reset_index()"
      ],
      "execution_count": null,
      "outputs": []
    },
    {
      "metadata": {
        "trusted": true,
        "id": "-EebvfGWh-8N"
      },
      "cell_type": "code",
      "source": [
        "locais = roubo_locais_tipo_latlon.LOCAL.str.get_dummies()\n",
        "periodos = roubo_locais_tipo_latlon.PERIDOOCORRENCIA.str.get_dummies()\n",
        "tipocrimes = roubo_locais_tipo_latlon.TIPODECRIME.str.get_dummies()\n",
        "tipoveiculos = roubo_locais_tipo_latlon.DESCR_TIPO_VEICULO.str.get_dummies()\n",
        "roubos = pd.concat([locais,periodos, tipocrimes, tipoveiculos], axis = 1)"
      ],
      "execution_count": null,
      "outputs": []
    },
    {
      "metadata": {
        "trusted": true,
        "id": "36ehugrTh-8N"
      },
      "cell_type": "code",
      "source": [
        "roubos_escalados = scaler.fit_transform(roubos)"
      ],
      "execution_count": null,
      "outputs": []
    },
    {
      "metadata": {
        "trusted": true,
        "id": "VHXKXA0Gh-8N"
      },
      "cell_type": "code",
      "source": [
        "treinamento_kmeans_analise_inertia(roubos_escalados,8,41)"
      ],
      "execution_count": null,
      "outputs": []
    },
    {
      "metadata": {
        "id": "UA8XNVV1h-8N"
      },
      "cell_type": "markdown",
      "source": [
        "Após análise da inércia, percebemos que o valor próximo do ideal seria k = 17"
      ]
    },
    {
      "metadata": {
        "trusted": true,
        "id": "3vkVbp9eh-8O"
      },
      "cell_type": "code",
      "source": [
        "modelo = KMeans(n_clusters=17, random_state=50)\n",
        "modelo.fit(roubos_escalados)"
      ],
      "execution_count": null,
      "outputs": []
    },
    {
      "metadata": {
        "trusted": true,
        "id": "BLRT6zTAh-8O"
      },
      "cell_type": "code",
      "source": [
        "classificacao = pd.DataFrame(modelo.labels_, columns = ['grupo'])\n",
        "classificacao.grupo.value_counts()"
      ],
      "execution_count": null,
      "outputs": []
    },
    {
      "metadata": {
        "trusted": true,
        "id": "JYPRgQDPh-8O"
      },
      "cell_type": "code",
      "source": [
        "analisando_grupos(roubos, modelo, 3)"
      ],
      "execution_count": null,
      "outputs": []
    },
    {
      "metadata": {
        "trusted": true,
        "id": "6hIP4nvDh-8O"
      },
      "cell_type": "code",
      "source": [
        "grupos_labels = {\n",
        "    0 : \"Furto de automóvel e caminhote em via pública pela manhã\",\n",
        "    1 : \"Roubo de ônibus em zona rural ou estrada pela manhã e madrugada\",\n",
        "    2 : \"Roubo de automóvel em via pública, à noite\",\n",
        "    3 : \"Furto de automóvel e caminhote em via pública à tarde\",\n",
        "    4 : \"Furto de motociclo e automóvel em estacionamento\",\n",
        "    5 : \"Roubo de reboque e caminhão em estrada de madrugada\",\n",
        "    6 : \"Roubo em via pública de madrugada\",\n",
        "    7 : \"Roubo de trator em Comércio e Serviços e na Zona Rural\",\n",
        "    8 : \"Furto em residência de madrugada\",\n",
        "    9 : \"Roubo de caminhonete e caminhão na Zona Rural\",\n",
        "    10 : \"Roubo de motociclo à noite em via pública\",\n",
        "    11 : \"Roubo de motociclo em movimento à noite\",\n",
        "    12 : \"Roubo de utilitário em Comércio e Serviços\",\n",
        "    13 : \"Roubo de micro-ônibus na Zona Rural pela manhã\",\n",
        "    14 : \"Furto de caminhão e similares em Comércio e Serviços\",\n",
        "    15 : \"Furto de motoneta\",\n",
        "    16 : \"Roubo de caminhão em Comércio e Serviços de madrugada\",\n",
        "}"
      ],
      "execution_count": null,
      "outputs": []
    },
    {
      "metadata": {
        "trusted": true,
        "id": "Yon3czLGh-8O"
      },
      "cell_type": "code",
      "source": [
        "roubo_locais_tipo_latlon_grupo = pd.concat([roubo_locais_tipo_latlon,classificacao], axis = 1)\n",
        "roubo_locais_tipo_latlon_grupo['GRUPO_DESC'] = roubo_locais_tipo_latlon_grupo['grupo'].map(grupos_labels)"
      ],
      "execution_count": null,
      "outputs": []
    },
    {
      "metadata": {
        "trusted": true,
        "id": "Z2hB8mROh-8O"
      },
      "cell_type": "code",
      "source": [
        "roubo_locais_tipo_latlon_grupo['GRUPO_DESC'].value_counts"
      ],
      "execution_count": null,
      "outputs": []
    },
    {
      "metadata": {
        "trusted": true,
        "id": "FKofBTAKh-8O"
      },
      "cell_type": "code",
      "source": [
        "plotando_no_mapa_todos_grupos(roubo_locais_tipo_latlon_grupo)"
      ],
      "execution_count": null,
      "outputs": []
    },
    {
      "metadata": {
        "trusted": true,
        "id": "-Xielfjdh-8P"
      },
      "cell_type": "code",
      "source": [
        "grupos = obter_grupos(roubos, modelo)\n",
        "plotando_grupo_no_mapa(roubo_locais_tipo_latlon_grupo, 6, grupos)"
      ],
      "execution_count": null,
      "outputs": []
    },
    {
      "metadata": {
        "id": "q0y0jutJh-8P"
      },
      "cell_type": "markdown",
      "source": [
        "## Agrupando os veículos roubados/furtados com base no Local, no Período da Ocorrência, no tipo de veículo, e no dia da semana, feriado e faixa do ano modelo"
      ]
    },
    {
      "metadata": {
        "trusted": true,
        "id": "jSrLzPsgh-8P"
      },
      "cell_type": "code",
      "source": [
        "dados_validos = (roubo_furto_dataframe['LOCAL'] != 'Outros') \\\n",
        "    & (roubo_furto_dataframe['PERIDOOCORRENCIA'] != 'EM HORA INCERTA') \\\n",
        "    & (roubo_furto_dataframe['DESCR_TIPO_VEICULO'] != 'Não Informado') \\\n",
        "    & (roubo_furto_dataframe['FAIXA_ANO_MODELO'] != 'Não Informado')\n",
        "roubo_locais_tipo_dia = roubo_furto_dataframe[dados_validos]\n",
        "roubo_locais_tipo_dia = roubo_locais_tipo_dia[['LATITUDE', 'LONGITUDE','LOCAL', 'PERIDOOCORRENCIA','TIPODECRIME','DESCR_TIPO_VEICULO', 'DIADASEMANADESC','IND_FERIADO','IND_PRE_FERIADO','IND_POS_FERIADO', 'FAIXA_ANO_MODELO']]"
      ],
      "execution_count": null,
      "outputs": []
    },
    {
      "metadata": {
        "trusted": true,
        "id": "91UVTRCyh-8P"
      },
      "cell_type": "code",
      "source": [
        "feriado = roubo_locais_tipo_dia.IND_FERIADO\n",
        "preferiado = roubo_locais_tipo_dia.IND_PRE_FERIADO\n",
        "posferiado = roubo_locais_tipo_dia.IND_POS_FERIADO\n",
        "anos = roubo_locais_tipo_dia.FAIXA_ANO_MODELO.str.get_dummies()\n",
        "dias = roubo_locais_tipo_dia.DIADASEMANADESC.str.get_dummies()\n",
        "locais = roubo_locais_tipo_dia.LOCAL.str.get_dummies()\n",
        "periodos = roubo_locais_tipo_dia.PERIDOOCORRENCIA.str.get_dummies()\n",
        "tipocrimes = roubo_locais_tipo_dia.TIPODECRIME.str.get_dummies()\n",
        "tipoveiculos = roubo_locais_tipo_dia.DESCR_TIPO_VEICULO.str.get_dummies()\n",
        "roubos = pd.concat([locais,periodos, tipocrimes, tipoveiculos,dias,feriado,preferiado,posferiado,anos], axis = 1)"
      ],
      "execution_count": null,
      "outputs": []
    },
    {
      "metadata": {
        "trusted": true,
        "id": "cXrLAO9Eh-8P"
      },
      "cell_type": "code",
      "source": [
        "roubos_escalados = scaler.fit_transform(roubos)"
      ],
      "execution_count": null,
      "outputs": []
    },
    {
      "metadata": {
        "trusted": true,
        "id": "sxOXmatWh-8P"
      },
      "cell_type": "code",
      "source": [
        "treinamento_kmeans_analise_inertia(roubos_escalados,14,38)"
      ],
      "execution_count": null,
      "outputs": []
    },
    {
      "metadata": {
        "id": "e_0zbA5Bh-8P"
      },
      "cell_type": "markdown",
      "source": [
        "Após análise da inércia, percebemos que o valor próximo do ideal seria k = 21"
      ]
    },
    {
      "metadata": {
        "trusted": true,
        "id": "ZMd3o1tnh-8Q"
      },
      "cell_type": "code",
      "source": [
        "modelo = KMeans(n_clusters=21, random_state=50)\n",
        "modelo.fit(roubos_escalados)"
      ],
      "execution_count": null,
      "outputs": []
    },
    {
      "metadata": {
        "trusted": true,
        "id": "KxtroZL6h-8Q"
      },
      "cell_type": "code",
      "source": [
        "analisar_grupos_em_2_dimensoes_tsne(roubos,modelo,21)"
      ],
      "execution_count": null,
      "outputs": []
    },
    {
      "metadata": {
        "trusted": true,
        "id": "Ak0XkQ35h-8Q"
      },
      "cell_type": "code",
      "source": [
        "classificacao = pd.DataFrame(modelo.labels_, columns = ['grupo'])\n",
        "ranking_grupos = pd.DataFrame({'Total de Ocorrências' : classificacao.grupo.value_counts()})\n",
        "ranking_grupos"
      ],
      "execution_count": null,
      "outputs": []
    },
    {
      "metadata": {
        "trusted": true,
        "id": "lBYgNdkzh-8Q"
      },
      "cell_type": "code",
      "source": [
        "roubo_locais_tipo_dia = roubo_locais_tipo_dia.reset_index()\n",
        "roubo_locais_tipo_dia_grupo = pd.concat([roubo_locais_tipo_dia,classificacao], axis = 1)"
      ],
      "execution_count": null,
      "outputs": []
    },
    {
      "metadata": {
        "trusted": true,
        "id": "e9e89j5Vh-8Q"
      },
      "cell_type": "code",
      "source": [
        "#for g in range(20,20):\n",
        "    grupos = obter_grupos(roubos, modelo)\n",
        "    plotando_grupo_no_mapa(roubo_locais_tipo_dia_grupo, 20, grupos)"
      ],
      "execution_count": null,
      "outputs": []
    }
  ],
  "metadata": {
    "kernelspec": {
      "language": "python",
      "display_name": "Python 3",
      "name": "python3"
    },
    "language_info": {
      "pygments_lexer": "ipython3",
      "nbconvert_exporter": "python",
      "version": "3.6.4",
      "file_extension": ".py",
      "codemirror_mode": {
        "name": "ipython",
        "version": 3
      },
      "name": "python",
      "mimetype": "text/x-python"
    },
    "colab": {
      "provenance": [],
      "include_colab_link": true
    }
  },
  "nbformat": 4,
  "nbformat_minor": 0
}