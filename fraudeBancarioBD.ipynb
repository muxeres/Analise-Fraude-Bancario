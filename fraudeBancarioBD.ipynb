{
 "cells": [
  {
   "cell_type": "markdown",
   "metadata": {
    "id": "s8xyQzyUmUCh"
   },
   "source": [
    "Simulação fraude Bancario"
   ]
  },
  {
   "cell_type": "markdown",
   "metadata": {
    "id": "yqPN3HBamo17"
   },
   "source": [
    "\n",
    "\n",
    "\n",
    "Tipo de Fraude\n",
    "\n",
    "Quantidade\n",
    "\n",
    "Impacto Financeiro\n",
    "\n",
    "Compras não autorizadas\n",
    "\n",
    "120.000\n",
    "\n",
    "R$ 60 milhões\n",
    "\n",
    "Clonagem de cartões\n",
    "\n",
    "8.000\n",
    "\n",
    "R$ 20 milhões\n",
    "\n",
    "Uso indevido de informações\n",
    "\n",
    "20.000\n",
    "\n",
    "R$ 20 milhões\n",
    "\n",
    "\n",
    "Comparação entre antes e depois da implementação:\n",
    "\n",
    "Métricas\n",
    "\n",
    "Antes\n",
    "\n",
    "Depois\n",
    "\n",
    "Número de fraudes em cartões de crédito\n",
    "\n",
    "148.000\n",
    "\n",
    "29.600\n",
    "\n",
    "Perdas financeiras anuais por fraudes\n",
    "\n",
    "R$ 100 milhões\n",
    "\n",
    "R$ 20 milhões\n",
    "\n",
    "Nível de satisfação do cliente\n",
    "\n",
    "80%\n",
    "\n",
    "90%\n",
    "\n",
    "Exemplo Stream de dados."
   ]
  },
  {
   "cell_type": "markdown",
   "metadata": {
    "id": "6_P5gFPgmsyK"
   },
   "source": [
    "1.  Preparação Inicial"
   ]
  },
  {
   "cell_type": "markdown",
   "metadata": {
    "id": "7H2kxJvSna3C"
   },
   "source": [
    " A estrutura inicial dos dados é verificada, e são realizadas limpezas básicas, como a remoção de duplicados e substituição de valores nulos."
   ]
  },
  {
   "cell_type": "markdown",
   "metadata": {
    "id": "d2iQKOwqofci"
   },
   "source": [
    "Importação de bibliotecas"
   ]
  },
  {
   "cell_type": "code",
   "execution_count": 1,
   "metadata": {
    "colab": {
     "base_uri": "https://localhost:8080/"
    },
    "id": "bRL0kb8CoOfs",
    "outputId": "98d28bf5-4599-4065-bc28-d6727a035ae8"
   },
   "outputs": [
    {
     "name": "stdout",
     "output_type": "stream",
     "text": [
      "Collecting pymongo\n",
      "  Downloading pymongo-4.10.1-cp39-cp39-win_amd64.whl.metadata (22 kB)\n",
      "Collecting psycopg2-binary\n",
      "  Downloading psycopg2_binary-2.9.10-cp39-cp39-win_amd64.whl.metadata (5.0 kB)\n",
      "Requirement already satisfied: sqlalchemy in c:\\program files\\python39\\lib\\site-packages (2.0.32)\n",
      "Requirement already satisfied: plotly in c:\\program files\\python39\\lib\\site-packages (5.23.0)\n",
      "Requirement already satisfied: scikit-learn in c:\\program files\\python39\\lib\\site-packages (1.5.2)\n",
      "Collecting dnspython<3.0.0,>=1.16.0 (from pymongo)\n",
      "  Downloading dnspython-2.7.0-py3-none-any.whl.metadata (5.8 kB)\n",
      "Requirement already satisfied: typing-extensions>=4.6.0 in c:\\program files\\python39\\lib\\site-packages (from sqlalchemy) (4.8.0)\n",
      "Requirement already satisfied: greenlet!=0.4.17 in c:\\program files\\python39\\lib\\site-packages (from sqlalchemy) (3.0.3)\n",
      "Requirement already satisfied: tenacity>=6.2.0 in c:\\program files\\python39\\lib\\site-packages (from plotly) (9.0.0)\n",
      "Requirement already satisfied: packaging in c:\\program files\\python39\\lib\\site-packages (from plotly) (24.1)\n",
      "Requirement already satisfied: numpy>=1.19.5 in c:\\program files\\python39\\lib\\site-packages (from scikit-learn) (2.0.1)\n",
      "Requirement already satisfied: scipy>=1.6.0 in c:\\program files\\python39\\lib\\site-packages (from scikit-learn) (1.13.1)\n",
      "Requirement already satisfied: joblib>=1.2.0 in c:\\program files\\python39\\lib\\site-packages (from scikit-learn) (1.4.2)\n",
      "Requirement already satisfied: threadpoolctl>=3.1.0 in c:\\program files\\python39\\lib\\site-packages (from scikit-learn) (3.5.0)\n",
      "Downloading pymongo-4.10.1-cp39-cp39-win_amd64.whl (777 kB)\n",
      "   ---------------------------------------- 0.0/777.1 kB ? eta -:--:--\n",
      "   --------------------------------------- 777.1/777.1 kB 11.2 MB/s eta 0:00:00\n",
      "Downloading psycopg2_binary-2.9.10-cp39-cp39-win_amd64.whl (1.2 MB)\n",
      "   ---------------------------------------- 0.0/1.2 MB ? eta -:--:--\n",
      "   ---------------------------------------- 1.2/1.2 MB 29.1 MB/s eta 0:00:00\n",
      "Downloading dnspython-2.7.0-py3-none-any.whl (313 kB)\n",
      "Installing collected packages: psycopg2-binary, dnspython, pymongo\n",
      "Successfully installed dnspython-2.7.0 psycopg2-binary-2.9.10 pymongo-4.10.1\n"
     ]
    },
    {
     "name": "stderr",
     "output_type": "stream",
     "text": [
      "WARNING: Error parsing dependencies of pip: [Errno 2] No such file or directory: 'c:\\\\program files\\\\python39\\\\lib\\\\site-packages\\\\pip-24.2.dist-info\\\\METADATA'\n",
      "\n",
      "[notice] A new release of pip is available: 24.2 -> 24.3.1\n",
      "[notice] To update, run: python.exe -m pip install --upgrade pip\n"
     ]
    }
   ],
   "source": [
    "!pip install pymongo psycopg2-binary sqlalchemy plotly scikit-learn\n"
   ]
  },
  {
   "cell_type": "markdown",
   "metadata": {
    "id": "KCXykCAcoeEz"
   },
   "source": [
    "**Download das bibliotecas e Preparação Inicial**"
   ]
  },
  {
   "cell_type": "code",
   "execution_count": 2,
   "metadata": {
    "id": "BDhP3HTUkhcQ"
   },
   "outputs": [
    {
     "ename": "ModuleNotFoundError",
     "evalue": "No module named 'pyspark'",
     "output_type": "error",
     "traceback": [
      "\u001b[1;31m---------------------------------------------------------------------------\u001b[0m",
      "\u001b[1;31mModuleNotFoundError\u001b[0m                       Traceback (most recent call last)",
      "Cell \u001b[1;32mIn[2], line 8\u001b[0m\n\u001b[0;32m      6\u001b[0m \u001b[38;5;28;01mfrom\u001b[39;00m \u001b[38;5;21;01msklearn\u001b[39;00m\u001b[38;5;21;01m.\u001b[39;00m\u001b[38;5;21;01mensemble\u001b[39;00m \u001b[38;5;28;01mimport\u001b[39;00m IsolationForest  \u001b[38;5;66;03m# Importando o Isolation Forest\u001b[39;00m\n\u001b[0;32m      7\u001b[0m \u001b[38;5;28;01mfrom\u001b[39;00m \u001b[38;5;21;01msklearn\u001b[39;00m\u001b[38;5;21;01m.\u001b[39;00m\u001b[38;5;21;01mmetrics\u001b[39;00m \u001b[38;5;28;01mimport\u001b[39;00m classification_report, confusion_matrix  \u001b[38;5;66;03m# Para avaliar a performance do modelo\u001b[39;00m\n\u001b[1;32m----> 8\u001b[0m \u001b[38;5;28;01mfrom\u001b[39;00m \u001b[38;5;21;01mpyspark\u001b[39;00m\u001b[38;5;21;01m.\u001b[39;00m\u001b[38;5;21;01msql\u001b[39;00m \u001b[38;5;28;01mimport\u001b[39;00m SparkSession\n\u001b[0;32m      9\u001b[0m \u001b[38;5;28;01mfrom\u001b[39;00m \u001b[38;5;21;01mpyspark\u001b[39;00m\u001b[38;5;21;01m.\u001b[39;00m\u001b[38;5;21;01msql\u001b[39;00m\u001b[38;5;21;01m.\u001b[39;00m\u001b[38;5;21;01mfunctions\u001b[39;00m \u001b[38;5;28;01mimport\u001b[39;00m col, \u001b[38;5;28msum\u001b[39m \u001b[38;5;28;01mas\u001b[39;00m _sum\n\u001b[0;32m     10\u001b[0m \u001b[38;5;28;01mfrom\u001b[39;00m \u001b[38;5;21;01mpyspark\u001b[39;00m\u001b[38;5;21;01m.\u001b[39;00m\u001b[38;5;21;01msql\u001b[39;00m\u001b[38;5;21;01m.\u001b[39;00m\u001b[38;5;21;01mtypes\u001b[39;00m \u001b[38;5;28;01mimport\u001b[39;00m StructType, StructField, FloatType, StringType, IntegerType\n",
      "\u001b[1;31mModuleNotFoundError\u001b[0m: No module named 'pyspark'"
     ]
    }
   ],
   "source": [
    "# Importando as bibliotecas necessárias para o trabalho.\n",
    "import pandas as pd  # Para trabalhar com tabelas e manipulação de dados\n",
    "import numpy as np   # Para manipulações numéricas e matrizes\n",
    "import matplotlib.pyplot as plt  # Para visualizações gráficas\n",
    "import seaborn as sns  # Para visualizações avançadas\n",
    "from sklearn.ensemble import IsolationForest  # Importando o Isolation Forest\n",
    "from sklearn.metrics import classification_report, confusion_matrix  # Para avaliar a performance do modelo\n",
    "from pyspark.sql import SparkSession\n",
    "from pyspark.sql.functions import col, sum as _sum\n",
    "from pyspark.sql.types import StructType, StructField, FloatType, StringType, IntegerType\n",
    "from pyspark.ml import PipelineModel"
   ]
  },
  {
   "cell_type": "markdown",
   "metadata": {
    "id": "q68iweiouJRM"
   },
   "source": [
    "A estrutura inicial dos dados é verificada, e são realizadas limpezas básicas, como a remoção de duplicados e substituição de valores nulos.\n",
    "\n",
    "-  Exemplo de dados fictícios de fraudes no banco\n",
    "-  Como não temos acesso aos dados reais, vamos criar um dataframe simulado para ilustrar o fluxo\n"
   ]
  },
  {
   "cell_type": "markdown",
   "metadata": {
    "id": "bISbZef5tQHy"
   },
   "source": [
    "\n",
    "\n",
    "\n",
    "*   A verificação inicial dos dados é essencial para garantir que o modelo receba\n",
    "entradas consistentes.\n",
    "*   Dados duplicados ou valores nulos podem distorcer a análise e prejudicar a precisão do modelo.\n",
    "*   Essas etapas garantem que o pipeline funcione sem falhas e que a integridade dos dados seja mantida.\n",
    "\n",
    "\n"
   ]
  },
  {
   "cell_type": "code",
   "execution_count": null,
   "metadata": {
    "id": "rTEgsziCneGz"
   },
   "outputs": [],
   "source": [
    "# Criando uma sessão Spark\n",
    "spark = SparkSession.builder \\\n",
    "    .appName(\"Analise de Dados de Fraudes\") \\\n",
    "    .getOrCreate()"
   ]
  },
  {
   "cell_type": "code",
   "execution_count": null,
   "metadata": {
    "id": "whUjMDV49Bss"
   },
   "outputs": [],
   "source": [
    "# Criando dados simulados de fraudes\n",
    "fraude_data = {\n",
    "    'Tipo de Fraude': ['Compras não autorizadas', 'Clonagem de cartões', 'Uso indevido de informações'],\n",
    "    'Quantidade': [120000, 8000, 20000],\n",
    "    'Impacto Financeiro (R$)': [60000000, 20000000, 20000000],\n",
    "    'Fraude 1': [1000, 500000],  # Caso fora do normal\n",
    "    'Fraude 2': [2000, 1000000]  # Caso fora do normal\n",
    "}"
   ]
  },
  {
   "cell_type": "code",
   "execution_count": null,
   "metadata": {
    "id": "fq2Anuto_c08"
   },
   "outputs": [],
   "source": [
    "# Nomes das colunas\n",
    "columns = ['Tipo de Fraude', 'Quantidade', 'Impacto Financeiro (R$)']"
   ]
  },
  {
   "cell_type": "code",
   "execution_count": null,
   "metadata": {
    "id": "bb7li-khAl3M"
   },
   "outputs": [],
   "source": [
    "# Convertendo o dicionário em uma lista de tuplas (cada tupla representa uma linha)\n",
    "fraude_data_rows = list(zip(*[fraude_data[c] for c in columns]))"
   ]
  },
  {
   "cell_type": "code",
   "execution_count": null,
   "metadata": {
    "colab": {
     "base_uri": "https://localhost:8080/"
    },
    "id": "cc_UCpsq1M8y",
    "outputId": "ddc8b8a0-79ff-4559-c597-a2530d1dc3da"
   },
   "outputs": [
    {
     "name": "stdout",
     "output_type": "stream",
     "text": [
      "Dados iniciais:\n",
      "+--------------------+----------+-----------------------+\n",
      "|      Tipo de Fraude|Quantidade|Impacto Financeiro (R$)|\n",
      "+--------------------+----------+-----------------------+\n",
      "|Compras não autor...|    120000|               60000000|\n",
      "| Clonagem de cartões|      8000|               20000000|\n",
      "|Uso indevido de i...|     20000|               20000000|\n",
      "+--------------------+----------+-----------------------+\n",
      "\n"
     ]
    }
   ],
   "source": [
    "# Criando o DataFrame\n",
    "fraude_df = spark.createDataFrame(fraude_data_rows, columns)\n",
    "\n",
    "# Exibindo os dados iniciais\n",
    "print(\"Dados iniciais:\")\n",
    "fraude_df.show()"
   ]
  },
  {
   "cell_type": "code",
   "execution_count": null,
   "metadata": {
    "colab": {
     "base_uri": "https://localhost:8080/"
    },
    "id": "53PC_AsL1ZIq",
    "outputId": "65033cd2-d66f-4eea-c4c1-731218e7b42b"
   },
   "outputs": [
    {
     "name": "stdout",
     "output_type": "stream",
     "text": [
      "\n",
      "Impacto financeiro médio por fraude:\n",
      "+--------------------+----------+-----------------------+---------------------------------+\n",
      "|      Tipo de Fraude|Quantidade|Impacto Financeiro (R$)|Impacto Médio por Ocorrência (R$)|\n",
      "+--------------------+----------+-----------------------+---------------------------------+\n",
      "|Compras não autor...|    120000|               60000000|                            500.0|\n",
      "| Clonagem de cartões|      8000|               20000000|                           2500.0|\n",
      "|Uso indevido de i...|     20000|               20000000|                           1000.0|\n",
      "+--------------------+----------+-----------------------+---------------------------------+\n",
      "\n"
     ]
    }
   ],
   "source": [
    "# Calculando o impacto financeiro médio por tipo de fraude\n",
    "print(\"\\nImpacto financeiro médio por fraude:\")\n",
    "impacto_medio_df = fraude_df.withColumn(\n",
    "    \"Impacto Médio por Ocorrência (R$)\",\n",
    "    col(\"Impacto Financeiro (R$)\") / col(\"Quantidade\")\n",
    ")\n",
    "impacto_medio_df.show()"
   ]
  },
  {
   "cell_type": "code",
   "execution_count": null,
   "metadata": {
    "id": "P0aeL43a1aNT"
   },
   "outputs": [],
   "source": [
    "# Calculando o total de ocorrências e impacto financeiro\n",
    "totais = impacto_medio_df.agg(\n",
    "    _sum(\"Quantidade\").alias(\"Total de Ocorrências\"),\n",
    "    _sum(\"Impacto Financeiro (R$)\").alias(\"Impacto Financeiro Total (R$)\")\n",
    ").collect()[0]"
   ]
  },
  {
   "cell_type": "code",
   "execution_count": null,
   "metadata": {
    "colab": {
     "base_uri": "https://localhost:8080/"
    },
    "id": "5tzwQOZK1d5D",
    "outputId": "06b388d6-82a2-4e0d-fe12-88790934fbd9"
   },
   "outputs": [
    {
     "name": "stdout",
     "output_type": "stream",
     "text": [
      "\n",
      "Total de Ocorrências: 148000\n",
      "Impacto Financeiro Total: R$100,000,000.00\n"
     ]
    }
   ],
   "source": [
    "# Resultados agregados\n",
    "total_ocorrencias = totais[\"Total de Ocorrências\"]\n",
    "impacto_financeiro_total = totais[\"Impacto Financeiro Total (R$)\"]\n",
    "\n",
    "print(f\"\\nTotal de Ocorrências: {total_ocorrencias}\")\n",
    "print(f\"Impacto Financeiro Total: R${impacto_financeiro_total:,.2f}\")\n"
   ]
  },
  {
   "cell_type": "code",
   "execution_count": null,
   "metadata": {
    "colab": {
     "base_uri": "https://localhost:8080/"
    },
    "id": "NW_1huyz1gyj",
    "outputId": "95595b81-4b01-445b-ca64-dc7831515dc0"
   },
   "outputs": [
    {
     "name": "stdout",
     "output_type": "stream",
     "text": [
      "\n",
      "INSIGHTS:\n",
      "- A maior quantidade de ocorrências está relacionada a 'Compras não autorizadas', representando aproximadamente 81.08% do total de ocorrências.\n",
      "- Apesar de representar uma quantidade menor de casos, a 'Clonagem de cartões' tem impacto financeiro significativo, com um impacto médio por ocorrência maior do que outras fraudes.\n",
      "- Estratégias de mitigação podem priorizar 'Compras não autorizadas', dada sua alta frequência, e 'Clonagem de cartões', devido ao alto impacto financeiro por caso.\n"
     ]
    }
   ],
   "source": [
    "# Insights\n",
    "print(\"\\nINSIGHTS:\")\n",
    "print(\"- A maior quantidade de ocorrências está relacionada a 'Compras não autorizadas', \"\n",
    "      \"representando aproximadamente {:.2f}% do total de ocorrências.\"\n",
    "      .format((120000 / total_ocorrencias) * 100))\n",
    "print(\"- Apesar de representar uma quantidade menor de casos, a 'Clonagem de cartões' tem impacto financeiro \"\n",
    "      \"significativo, com um impacto médio por ocorrência maior do que outras fraudes.\")\n",
    "print(\"- Estratégias de mitigação podem priorizar 'Compras não autorizadas', dada sua alta frequência, \"\n",
    "      \"e 'Clonagem de cartões', devido ao alto impacto financeiro por caso.\")"
   ]
  },
  {
   "cell_type": "markdown",
   "metadata": {
    "id": "vc61a5JYo3tn"
   },
   "source": [
    "**Aplicação de Machine Learning (Isolation Forest)**"
   ]
  },
  {
   "cell_type": "markdown",
   "metadata": {
    "id": "TpGjPdL5t70r"
   },
   "source": [
    "\n",
    "\n",
    "*   As variáveis categóricas são convertidas para um formato numérico por meio de one-hot encoding.\n",
    "\n",
    "*   Um modelo Isolation Forest é treinado com os dados escalonados, e ele retorna rótulos indicando transações suspeitas.\n",
    "\n",
    "*   As anomalias detectadas são marcadas como fraudes (IsFraud).\n"
   ]
  },
  {
   "cell_type": "code",
   "execution_count": null,
   "metadata": {
    "id": "qSdQRAUKFG7_"
   },
   "outputs": [],
   "source": [
    "# Importando bibliotecas necessárias\n",
    "from pyspark.sql import SparkSession\n",
    "from pyspark.ml.feature import VectorAssembler\n",
    "from pyspark.ml.feature import MinMaxScaler\n",
    "from pyspark.ml.clustering import BisectingKMeans\n",
    "from pyspark.ml.stat import Correlation\n",
    "from sklearn.ensemble import IsolationForest\n",
    "from sklearn.preprocessing import StandardScaler\n",
    "import matplotlib.pyplot as plt\n",
    "import seaborn as sns\n",
    "import pandas as pd"
   ]
  },
  {
   "cell_type": "code",
   "execution_count": null,
   "metadata": {
    "id": "SxSKci78o1pR"
   },
   "outputs": [],
   "source": [
    "\n",
    "\n",
    "# Selecionando features relevantes\n",
    "features = ['Tipo de Fraude', 'Quantidade', 'Impacto Financeiro (R$)']  # Ajuste conforme o dataset\n"
   ]
  },
  {
   "cell_type": "code",
   "execution_count": null,
   "metadata": {
    "id": "5_6Qas_qE2hM"
   },
   "outputs": [],
   "source": [
    "# Transformar os dados em formato adequado para o Isolation Forest\n",
    "assembler = VectorAssembler(inputCols=['Quantidade', 'Impacto Financeiro (R$)'], outputCol='features')\n",
    "fraude_df_transformed = assembler.transform(fraude_df)"
   ]
  },
  {
   "cell_type": "markdown",
   "metadata": {
    "id": "AK4GXKE6GrTK"
   },
   "source": [
    "\n",
    "\n",
    "*   Usamos o VectorAssembler para criar uma coluna de vetor com as variáveis numéricas (Quantidade e Impacto Financeiro (R$)).\n"
   ]
  },
  {
   "cell_type": "code",
   "execution_count": null,
   "metadata": {
    "id": "QOe1DgLXscJj"
   },
   "outputs": [],
   "source": [
    "# preprocessamento para correspondência do modelo\n",
    "scaler = MinMaxScaler(inputCol=\"features\", outputCol=\"scaledFeatures\")\n",
    "scaler_model = scaler.fit(fraude_df_transformed)\n",
    "fraude_df_scaled = scaler_model.transform(fraude_df_transformed)"
   ]
  },
  {
   "cell_type": "markdown",
   "metadata": {
    "id": "t5oIaVWHGy38"
   },
   "source": [
    "*   Aplicamos a normalização (MinMaxScaler) para padronizar os dados, melhorando a robustez do modelo."
   ]
  },
  {
   "cell_type": "markdown",
   "metadata": {
    "id": "LPFIO5PjH2OG"
   },
   "source": [
    "PySpark não tem um Isolation Forest nativo, simulamos a identificação de anomalias usando clustering, que pode identificar comportamentos fora do padrão."
   ]
  },
  {
   "cell_type": "code",
   "execution_count": null,
   "metadata": {
    "id": "ONiIQ1jAF1NE"
   },
   "outputs": [],
   "source": [
    "#configuração do modelo para o caso apresentado\n",
    "kmeans = BisectingKMeans(featuresCol=\"scaledFeatures\", k=2, maxIter=10, seed=42)\n",
    "\n"
   ]
  },
  {
   "cell_type": "markdown",
   "metadata": {
    "id": "8LD2CGOoH5SD"
   },
   "source": [
    "Configuramos o KMeans para criar dois clusters. Um cluster menor pode indicar comportamentos atípicos."
   ]
  },
  {
   "cell_type": "code",
   "execution_count": null,
   "metadata": {
    "id": "rcS7VjN2sfv5"
   },
   "outputs": [],
   "source": [
    "# Treinamento do modelo\n",
    "kmeans_model = kmeans.fit(fraude_df_scaled)"
   ]
  },
  {
   "cell_type": "markdown",
   "metadata": {
    "id": "a6fStuHJIB4G"
   },
   "source": [
    "Os clusters são analisados para entender os padrões e identificar anomalias.\n",
    "Qualquer cluster significativamente menor ou com comportamento fora do padrão é tratado como possível anomalia."
   ]
  },
  {
   "cell_type": "code",
   "execution_count": null,
   "metadata": {
    "id": "XPkF5SD0seEy"
   },
   "outputs": [],
   "source": [
    "# Obtendo os resultados\n",
    "predictions = kmeans_model.transform(fraude_df_scaled)"
   ]
  },
  {
   "cell_type": "code",
   "execution_count": null,
   "metadata": {
    "colab": {
     "base_uri": "https://localhost:8080/"
    },
    "id": "sdqIxxrZGLwk",
    "outputId": "01b3e7d8-7763-48ae-f487-a211fd44e4e8"
   },
   "outputs": [
    {
     "name": "stdout",
     "output_type": "stream",
     "text": [
      "Resultados de clustering:\n",
      "+--------------------+----------+-----------------------+----------+\n",
      "|      Tipo de Fraude|Quantidade|Impacto Financeiro (R$)|prediction|\n",
      "+--------------------+----------+-----------------------+----------+\n",
      "|Compras não autor...|    120000|               60000000|         1|\n",
      "| Clonagem de cartões|      8000|               20000000|         0|\n",
      "|Uso indevido de i...|     20000|               20000000|         0|\n",
      "+--------------------+----------+-----------------------+----------+\n",
      "\n"
     ]
    }
   ],
   "source": [
    "# Exibindo os clusters\n",
    "print(\"Resultados de clustering:\")\n",
    "predictions.select(\"Tipo de Fraude\", \"Quantidade\", \"Impacto Financeiro (R$)\", \"prediction\").show()"
   ]
  },
  {
   "cell_type": "code",
   "execution_count": null,
   "metadata": {
    "colab": {
     "base_uri": "https://localhost:8080/"
    },
    "id": "tsJfqIKBGTt1",
    "outputId": "5bddc642-c322-45ea-de5f-cd055a003445"
   },
   "outputs": [
    {
     "name": "stdout",
     "output_type": "stream",
     "text": [
      "Resumo por cluster:\n",
      "+----------+----------------------------+---------------+\n",
      "|prediction|avg(Impacto Financeiro (R$))|avg(Quantidade)|\n",
      "+----------+----------------------------+---------------+\n",
      "|         1|                       6.0E7|       120000.0|\n",
      "|         0|                       2.0E7|        14000.0|\n",
      "+----------+----------------------------+---------------+\n",
      "\n"
     ]
    }
   ],
   "source": [
    "# Análise de caso fora do normal\n",
    "cluster_summary = predictions.groupBy(\"prediction\").agg(\n",
    "    {\"Quantidade\": \"avg\", \"Impacto Financeiro (R$)\": \"avg\"}\n",
    ")\n",
    "\n",
    "print(\"Resumo por cluster:\")\n",
    "cluster_summary.show()"
   ]
  },
  {
   "cell_type": "code",
   "execution_count": null,
   "metadata": {
    "colab": {
     "base_uri": "https://localhost:8080/"
    },
    "id": "HlPY7pHiGdMK",
    "outputId": "2bbd3505-29c5-4478-99d3-d4eebb90be0e"
   },
   "outputs": [
    {
     "name": "stdout",
     "output_type": "stream",
     "text": [
      "Tamanhos dos clusters:\n",
      "+----------+-----+\n",
      "|prediction|count|\n",
      "+----------+-----+\n",
      "|         1|    1|\n",
      "|         0|    2|\n",
      "+----------+-----+\n",
      "\n"
     ]
    }
   ],
   "source": [
    "# Identificando clusters menores\n",
    "cluster_sizes = predictions.groupBy(\"prediction\").count()\n",
    "print(\"Tamanhos dos clusters:\")\n",
    "cluster_sizes.show()"
   ]
  },
  {
   "cell_type": "code",
   "execution_count": null,
   "metadata": {
    "colab": {
     "base_uri": "https://localhost:8080/"
    },
    "id": "CiFIROZqGkyu",
    "outputId": "ea70d511-f970-4747-f7b8-1f974b341180"
   },
   "outputs": [
    {
     "name": "stdout",
     "output_type": "stream",
     "text": [
      "\n",
      "INSIGHTS:\n",
      "- Os clusters indicam grupos de fraudes similares com base na quantidade de ocorrências e no impacto financeiro.\n",
      "- Qualquer cluster com tamanho muito pequeno pode ser investigado como possível anomalia.\n",
      "- Estratégias de mitigação podem ser ajustadas para priorizar clusters maiores com alto impacto financeiro.\n"
     ]
    }
   ],
   "source": [
    "# Insights finais\n",
    "print(\"\\nINSIGHTS:\")\n",
    "print(\"- Os clusters indicam grupos de fraudes similares com base na quantidade de ocorrências e no impacto financeiro.\")\n",
    "print(\"- Qualquer cluster com tamanho muito pequeno pode ser investigado como possível anomalia.\")\n",
    "print(\"- Estratégias de mitigação podem ser ajustadas para priorizar clusters maiores com alto impacto financeiro.\")"
   ]
  },
  {
   "cell_type": "markdown",
   "metadata": {
    "id": "S5cLB78Ptu0q"
   },
   "source": [
    "\n",
    "\n",
    "*   Este modelo é especialmente útil quando as fraudes têm padrões diferentes do comportamento típico.\n",
    "\n",
    "*   Ao marcar transações anômalas, o sistema pode reduzir significativamente o número de fraudes, garantindo maior segurança para o banco e seus clientes.\n",
    "\n",
    "*   A automação dessa detecção permite ao banco economizar milhões ao ano, conforme descrito no caso.\n"
   ]
  },
  {
   "cell_type": "markdown",
   "metadata": {
    "id": "yALOiFevs7Ty"
   },
   "source": [
    "# **Visualização dos Resultados**"
   ]
  },
  {
   "cell_type": "markdown",
   "metadata": {
    "id": "9QdIqkjhvDOC"
   },
   "source": [
    "Gráficos interativos são criados para mostrar o número de fraudes detectadas e seu impacto financeiro."
   ]
  },
  {
   "cell_type": "code",
   "execution_count": null,
   "metadata": {
    "id": "-ks0k_2Us9er"
   },
   "outputs": [],
   "source": [
    "# Visualizando tamaños de clusters\n",
    "cluster_sizes = predictions.groupBy(\"prediction\").count()\n",
    "cluster_sizes_df = cluster_sizes.toPandas()"
   ]
  },
  {
   "cell_type": "code",
   "execution_count": null,
   "metadata": {
    "colab": {
     "base_uri": "https://localhost:8080/",
     "height": 651
    },
    "id": "wR2wA2FatAab",
    "outputId": "476130e2-a119-42a5-f272-db25931b0fa3"
   },
   "outputs": [
    {
     "name": "stderr",
     "output_type": "stream",
     "text": [
      "<ipython-input-77-84e035a13054>:3: FutureWarning: \n",
      "\n",
      "Passing `palette` without assigning `hue` is deprecated and will be removed in v0.14.0. Assign the `x` variable to `hue` and set `legend=False` for the same effect.\n",
      "\n",
      "  sns.barplot(x=\"prediction\", y=\"count\", data=cluster_sizes_df, palette=\"viridis\")\n"
     ]
    },
    {
     "data": {
      "image/png": "[encoded data removed]",
      "text/plain": [
       "<Figure size 800x600 with 1 Axes>"
      ]
     },
     "metadata": {},
     "output_type": "display_data"
    }
   ],
   "source": [
    "# Gráfico de barras para tamaños de clusters\n",
    "plt.figure(figsize=(8, 6))\n",
    "sns.barplot(x=\"prediction\", y=\"count\", data=cluster_sizes_df, palette=\"viridis\")\n",
    "plt.title(\"Tamaños de Clusters\")\n",
    "plt.xlabel(\"Cluster\")\n",
    "plt.ylabel(\"Número de Casos\")\n",
    "plt.show()"
   ]
  },
  {
   "cell_type": "markdown",
   "metadata": {
    "id": "QXYFbJ1nJ68V"
   },
   "source": [
    "Convertemos os tamanhos dos clusters em um Pandas DataFrame usando .toPandas() para facilitar a visualização.\n",
    "Criamos um gráfico de barras com seaborn para mostrar o número de casos em cada cluster."
   ]
  },
  {
   "cell_type": "code",
   "execution_count": null,
   "metadata": {
    "id": "fOClTvvoJeE8"
   },
   "outputs": [],
   "source": [
    "# Preparando os dados para matriz de correlação\n",
    "assembler_corr = VectorAssembler(\n",
    "    inputCols=[\"Quantidade\", \"Impacto Financeiro (R$)\"], outputCol=\"correlation_features\"\n",
    ")\n",
    "data_corr = assembler_corr.transform(fraude_df).select(\"correlation_features\")\n"
   ]
  },
  {
   "cell_type": "code",
   "execution_count": null,
   "metadata": {
    "id": "Cs7oaT3PJqRs"
   },
   "outputs": [],
   "source": [
    "# Calculando la matriz de correlación\n",
    "correlation_matrix = Correlation.corr(data_corr, \"correlation_features\").head()[0].toArray()\n"
   ]
  },
  {
   "cell_type": "markdown",
   "metadata": {
    "id": "YOcQmegTKAsF"
   },
   "source": [
    "Usamos VectorAssembler para preparar los datos numéricos.\n",
    "Calculamos la matriz de correlación con Correlation.corr() de PySpark."
   ]
  },
  {
   "cell_type": "code",
   "execution_count": null,
   "metadata": {
    "id": "OCQfwAN5JvsM"
   },
   "outputs": [],
   "source": [
    "# Creando un DataFrame para la matriz\n",
    "columns_corr = [\"Quantidade\", \"Impacto Financeiro (R$)\"]\n",
    "corr_df = pd.DataFrame(correlation_matrix, index=columns_corr, columns=columns_corr)"
   ]
  },
  {
   "cell_type": "markdown",
   "metadata": {
    "id": "-BBjIbeHKMr9"
   },
   "source": [
    "A matriz é convertida em um Pandas DataFrame para facilitar a visualização.\n",
    "Usamos o seaborn para criar um mapa de calor que mostra a relação entre as variáveis."
   ]
  },
  {
   "cell_type": "markdown",
   "metadata": {
    "id": "RgPhfZavKbq8"
   },
   "source": [
    "Um mapa de calor com valores entre -1 e 1 mostrando as relações entre as variáveis Quantidade e Impacto Financeiro (R$)."
   ]
  },
  {
   "cell_type": "code",
   "execution_count": null,
   "metadata": {
    "colab": {
     "base_uri": "https://localhost:8080/",
     "height": 545
    },
    "id": "VYp0zASaJwRF",
    "outputId": "d130cdae-9dec-4c2e-b9c6-5199c6c439ea"
   },
   "outputs": [
    {
     "data": {
      "image/png": "[encoded data removed]",
      "text/plain": [
       "<Figure size 800x600 with 2 Axes>"
      ]
     },
     "metadata": {},
     "output_type": "display_data"
    }
   ],
   "source": [
    "# Visualización de la matriz de correlación\n",
    "plt.figure(figsize=(8, 6))\n",
    "sns.heatmap(corr_df, annot=True, fmt=\".2f\", cmap=\"coolwarm\", cbar=True)\n",
    "plt.title(\"Matriz de Correlación\")\n",
    "plt.show()"
   ]
  },
  {
   "cell_type": "markdown",
   "metadata": {
    "id": "cdWcoE8xvGCJ"
   },
   "source": [
    "A visualização permite identificar rapidamente tendências e padrões, como categorias ou localizações mais propensas a fraudes.\n",
    "Gráficos interativos melhoram a comunicação com stakeholders, traduzindo dados técnicos em insights visuais de fácil compreensão.\n",
    "Com essas visualizações, o banco pode ajustar sua política de segurança em tempo real."
   ]
  },
  {
   "cell_type": "markdown",
   "metadata": {
    "id": "Ve9XmJDJtFLR"
   },
   "source": [
    "# **Impacto Geral da Solução**\n",
    "\n",
    "1.   **Redução Drástica de Fraudes**\n",
    "O uso de aprendizado de máquina e análises de big data resultou em uma redução de 80% no número de fraudes, como mostrado no caso.\n",
    "2.  ** Economia Significativa**\n",
    "A economia anual de R$ 50 milhões reflete o retorno direto do investimento em tecnologias modernas de detecção de fraudes.\n",
    "3.   **Maior Satisfação do Cliente**\n",
    "A segurança reforçada aumentou a confiança dos clientes, elevando a satisfação geral de 80% para 90%.\n",
    "4.   **Detecção Proativa de Ameaças**\n",
    "O aprendizado contínuo do modelo garante que novas fraudes sejam identificadas rapidamente, mantendo o banco à frente dos fraudadores.\n",
    "\n"
   ]
  },
  {
   "cell_type": "markdown",
   "metadata": {
    "id": "zvZkVP7Qvuj6"
   },
   "source": [
    "**Conclusão**\n",
    "A combinação de machine learning (Isolation Forest), armazenamento em MongoDB e PostgreSQL, e visualizações interativas fornece uma solução robusta para o desafio de fraudes em cartões de crédito. Essa abordagem oferece segurança, economia e insights estratégicos que fortalecem tanto a reputação quanto a rentabilidade do banco. No caso não foram utilizadas as plataformas ditas mas numa apresentação dinãmica são imprescindiveis."
   ]
  }
 ],
 "metadata": {
  "colab": {
   "provenance": []
  },
  "kernelspec": {
   "display_name": "Python 3",
   "name": "python3"
  },
  "language_info": {
   "codemirror_mode": {
    "name": "ipython",
    "version": 3
   },
   "file_extension": ".py",
   "mimetype": "text/x-python",
   "name": "python",
   "nbconvert_exporter": "python",
   "pygments_lexer": "ipython3",
   "version": "3.9.0"
  }
 },
 "nbformat": 4,
 "nbformat_minor": 0
}
